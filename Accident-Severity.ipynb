{
 "cells": [
  {
   "cell_type": "markdown",
   "metadata": {},
   "source": [
    "# Coursera Capstone Project- Predicting Accident Severity\n",
    "\n",
    "\n",
    "## Table of contents\n",
    "* [Introduction/Business Problem](#introduction)\n",
    "* [Data](#data)\n",
    "* [Methodology](#methodology)\n",
    "* [Analysis](#analysis)\n",
    "* [Results and Discussion](#results)\n",
    "* [Conclusion](#conclusion)\n"
   ]
  },
  {
   "cell_type": "markdown",
   "metadata": {},
   "source": [
    "<div id='introduction'/>\n",
    "\n",
    "## Introduction/Business Problem\n",
    "\n",
    "This project will involve working on a case study where we will predict car accident severity. The stakeholders will be businesses that have employees that drive cars for their business operations. The reason why this matters for the stakeholders is because it's important for employee safety and the safety of others, and reduces liability as well as monetary loss for the company. For example, if employees are delivering cross country, ridesharing, delivering packages, or any other activity that requires driving, they would want to know the risk that their employees are going to a severe accident. A severe accident, meaning bodily injury or fatality to themselves or others. This is important because if there are severe accident prone conditions, then the stakeholder may want their employee to cease operations or re-route them depending on how severe a potential car accident can be. \n",
    "\n"
   ]
  },
  {
   "cell_type": "markdown",
   "metadata": {},
   "source": [
    "<div id='data'/>\n",
    "\n",
    "## Data\n",
    "\n",
    "### Data Description\n",
    "\n",
    "Our dataset consists of collisions reported by the Seattle Police Department and recorded by traffic records from 2004 to present time. Each row represents a collision and the dataset is updated weekly according to the [metadata](https://github.com/analisahill/Coursera_Capstone/blob/master/Capstone_Metadata.pdf). \n",
    "There are several columns in each row that tell us about the accident severity. The severity code, is a code that labels the severity of the collision. The severity code can be the following:\n",
    "\n",
    "| Accident Type      | Severity code    \n",
    "| :------------- | :----------: | \n",
    "| Property Damage| 1            |\n",
    "| Injury         | 2            |\n",
    "\n",
    "\n",
    "\n",
    "The severity code will be our labels in our supervised machine learning model. The following are the features that will be used in our model.\n",
    "\n",
    "**Features**\n",
    "* Severity code \n",
    "* Collision type (*Angles*, *Sideswipe*, *Parked Car*, *Other*, *Cycles*, *Rear Ended*, *Head On*, *Unknown*, *Left Turn*, *Pedestrian*, and *Right Turn*. )\n",
    "* Location\n",
    "* Number of pedestrians \n",
    "* Number of cyclists \n",
    "* Number of vehicles\n",
    "* Number of injuries\n",
    "* Number of serious injuries\n",
    "* Number of fatalities\n",
    "* Date of incident\n",
    "* Time of incident\n",
    "* Road conditions (*Wet*, *Dry*, *Unknown*, *Snow/Slush*, *Ice*, *Other*, *Sand/Mud/Dirt*, *Standing Water*, *Oil*)\n",
    "* Light conditions (*Daylight*, *Dark - Street Lights On*, *Dark - No Street Lights*, *Unknown*, *Dusk*, *Dawn*, *Dark - Street Lights Off*, *Other*, *Dark - Unknown Lighting*)\n",
    "* Weather (*Overcast*, *Raining*, *Clear*, *Unknown*, *Other*, *Snowing*, *Fog/Smog/Smoke*, *Sleet/Hail/Freezing Rain*, *Blowing Sand/Dirt*, *Severe Crosswind*, *Partly Cloudy*)\n",
    "* Other data that is described in\n",
    "[metadata](https://github.com/analisahill/Coursera_Capstone/blob/master/Capstone_Metadata.pdf)\n",
    "\n",
    "\n",
    "### How Data Will Be Used To Solve the Problem\n",
    "\n",
    "We will use the severity description (*Injury Collision* or *Property Damage Only Collision*) to determine the accident severity. For this study, *Property Damage Only Collision* is less severe than an *Injury Collision*. We want to build a model to find out which combination of features/conditions might lead to one of these two cases."
   ]
  },
  {
   "cell_type": "markdown",
   "metadata": {},
   "source": [
    "### Import Libraries and Tools"
   ]
  },
  {
   "cell_type": "code",
   "execution_count": 715,
   "metadata": {},
   "outputs": [],
   "source": [
    "import itertools\n",
    "\n",
    "import numpy as np\n",
    "import pandas as pd\n",
    "import seaborn as sns\n",
    "import matplotlib.pyplot as plt\n",
    "import matplotlib.image as mpimg\n",
    "\n",
    "\n",
    "from sklearn import preprocessing, svm, metrics, ensemble, tree\n",
    "from sklearn.preprocessing import OneHotEncoder, RobustScaler\n",
    "from sklearn.compose import make_column_transformer\n",
    "from sklearn.pipeline import Pipeline\n",
    "from sklearn.model_selection import train_test_split\n",
    "from sklearn.metrics import accuracy_score, classification_report\n",
    "from sklearn.linear_model import LogisticRegression\n",
    "from sklearn.tree import DecisionTreeClassifier\n",
    "from sklearn.naive_bayes import GaussianNB\n",
    "from sklearn.neighbors import KNeighborsClassifier\n",
    "from six import StringIO\n",
    "import pydotplus\n",
    "import graphviz\n",
    "\n",
    "\n",
    "\n",
    "\n",
    "from tqdm import tqdm\n",
    "\n",
    "%matplotlib inline"
   ]
  },
  {
   "cell_type": "code",
   "execution_count": 716,
   "metadata": {},
   "outputs": [],
   "source": [
    "# set so that we can see all the columns\n",
    "pd.set_option('display.max_columns', None)"
   ]
  },
  {
   "cell_type": "markdown",
   "metadata": {},
   "source": [
    "### Load Data"
   ]
  },
  {
   "cell_type": "code",
   "execution_count": 717,
   "metadata": {},
   "outputs": [],
   "source": [
    "df = pd.read_csv('IBM_capstone_example_data.csv', low_memory=False)"
   ]
  },
  {
   "cell_type": "code",
   "execution_count": 718,
   "metadata": {},
   "outputs": [
    {
     "data": {
      "text/html": [
       "<div>\n",
       "<style scoped>\n",
       "    .dataframe tbody tr th:only-of-type {\n",
       "        vertical-align: middle;\n",
       "    }\n",
       "\n",
       "    .dataframe tbody tr th {\n",
       "        vertical-align: top;\n",
       "    }\n",
       "\n",
       "    .dataframe thead th {\n",
       "        text-align: right;\n",
       "    }\n",
       "</style>\n",
       "<table border=\"1\" class=\"dataframe\">\n",
       "  <thead>\n",
       "    <tr style=\"text-align: right;\">\n",
       "      <th></th>\n",
       "      <th>SEVERITYCODE</th>\n",
       "      <th>X</th>\n",
       "      <th>Y</th>\n",
       "      <th>OBJECTID</th>\n",
       "      <th>INCKEY</th>\n",
       "      <th>COLDETKEY</th>\n",
       "      <th>REPORTNO</th>\n",
       "      <th>STATUS</th>\n",
       "      <th>ADDRTYPE</th>\n",
       "      <th>INTKEY</th>\n",
       "      <th>LOCATION</th>\n",
       "      <th>EXCEPTRSNCODE</th>\n",
       "      <th>EXCEPTRSNDESC</th>\n",
       "      <th>SEVERITYCODE.1</th>\n",
       "      <th>SEVERITYDESC</th>\n",
       "      <th>COLLISIONTYPE</th>\n",
       "      <th>PERSONCOUNT</th>\n",
       "      <th>PEDCOUNT</th>\n",
       "      <th>PEDCYLCOUNT</th>\n",
       "      <th>VEHCOUNT</th>\n",
       "      <th>INCDATE</th>\n",
       "      <th>INCDTTM</th>\n",
       "      <th>JUNCTIONTYPE</th>\n",
       "      <th>SDOT_COLCODE</th>\n",
       "      <th>SDOT_COLDESC</th>\n",
       "      <th>INATTENTIONIND</th>\n",
       "      <th>UNDERINFL</th>\n",
       "      <th>WEATHER</th>\n",
       "      <th>ROADCOND</th>\n",
       "      <th>LIGHTCOND</th>\n",
       "      <th>PEDROWNOTGRNT</th>\n",
       "      <th>SDOTCOLNUM</th>\n",
       "      <th>SPEEDING</th>\n",
       "      <th>ST_COLCODE</th>\n",
       "      <th>ST_COLDESC</th>\n",
       "      <th>SEGLANEKEY</th>\n",
       "      <th>CROSSWALKKEY</th>\n",
       "      <th>HITPARKEDCAR</th>\n",
       "    </tr>\n",
       "  </thead>\n",
       "  <tbody>\n",
       "    <tr>\n",
       "      <th>0</th>\n",
       "      <td>2</td>\n",
       "      <td>-122.323148</td>\n",
       "      <td>47.703140</td>\n",
       "      <td>1</td>\n",
       "      <td>1307</td>\n",
       "      <td>1307</td>\n",
       "      <td>3502005</td>\n",
       "      <td>Matched</td>\n",
       "      <td>Intersection</td>\n",
       "      <td>37475.0</td>\n",
       "      <td>5TH AVE NE AND NE 103RD ST</td>\n",
       "      <td></td>\n",
       "      <td>NaN</td>\n",
       "      <td>2</td>\n",
       "      <td>Injury Collision</td>\n",
       "      <td>Angles</td>\n",
       "      <td>2</td>\n",
       "      <td>0</td>\n",
       "      <td>0</td>\n",
       "      <td>2</td>\n",
       "      <td>2013/03/27 00:00:00+00</td>\n",
       "      <td>3/27/2013 2:54:00 PM</td>\n",
       "      <td>At Intersection (intersection related)</td>\n",
       "      <td>11</td>\n",
       "      <td>MOTOR VEHICLE STRUCK MOTOR VEHICLE, FRONT END ...</td>\n",
       "      <td>NaN</td>\n",
       "      <td>N</td>\n",
       "      <td>Overcast</td>\n",
       "      <td>Wet</td>\n",
       "      <td>Daylight</td>\n",
       "      <td>NaN</td>\n",
       "      <td>NaN</td>\n",
       "      <td>NaN</td>\n",
       "      <td>10</td>\n",
       "      <td>Entering at angle</td>\n",
       "      <td>0</td>\n",
       "      <td>0</td>\n",
       "      <td>N</td>\n",
       "    </tr>\n",
       "    <tr>\n",
       "      <th>1</th>\n",
       "      <td>1</td>\n",
       "      <td>-122.347294</td>\n",
       "      <td>47.647172</td>\n",
       "      <td>2</td>\n",
       "      <td>52200</td>\n",
       "      <td>52200</td>\n",
       "      <td>2607959</td>\n",
       "      <td>Matched</td>\n",
       "      <td>Block</td>\n",
       "      <td>NaN</td>\n",
       "      <td>AURORA BR BETWEEN RAYE ST AND BRIDGE WAY N</td>\n",
       "      <td>NaN</td>\n",
       "      <td>NaN</td>\n",
       "      <td>1</td>\n",
       "      <td>Property Damage Only Collision</td>\n",
       "      <td>Sideswipe</td>\n",
       "      <td>2</td>\n",
       "      <td>0</td>\n",
       "      <td>0</td>\n",
       "      <td>2</td>\n",
       "      <td>2006/12/20 00:00:00+00</td>\n",
       "      <td>12/20/2006 6:55:00 PM</td>\n",
       "      <td>Mid-Block (not related to intersection)</td>\n",
       "      <td>16</td>\n",
       "      <td>MOTOR VEHICLE STRUCK MOTOR VEHICLE, LEFT SIDE ...</td>\n",
       "      <td>NaN</td>\n",
       "      <td>0</td>\n",
       "      <td>Raining</td>\n",
       "      <td>Wet</td>\n",
       "      <td>Dark - Street Lights On</td>\n",
       "      <td>NaN</td>\n",
       "      <td>6354039.0</td>\n",
       "      <td>NaN</td>\n",
       "      <td>11</td>\n",
       "      <td>From same direction - both going straight - bo...</td>\n",
       "      <td>0</td>\n",
       "      <td>0</td>\n",
       "      <td>N</td>\n",
       "    </tr>\n",
       "    <tr>\n",
       "      <th>2</th>\n",
       "      <td>1</td>\n",
       "      <td>-122.334540</td>\n",
       "      <td>47.607871</td>\n",
       "      <td>3</td>\n",
       "      <td>26700</td>\n",
       "      <td>26700</td>\n",
       "      <td>1482393</td>\n",
       "      <td>Matched</td>\n",
       "      <td>Block</td>\n",
       "      <td>NaN</td>\n",
       "      <td>4TH AVE BETWEEN SENECA ST AND UNIVERSITY ST</td>\n",
       "      <td>NaN</td>\n",
       "      <td>NaN</td>\n",
       "      <td>1</td>\n",
       "      <td>Property Damage Only Collision</td>\n",
       "      <td>Parked Car</td>\n",
       "      <td>4</td>\n",
       "      <td>0</td>\n",
       "      <td>0</td>\n",
       "      <td>3</td>\n",
       "      <td>2004/11/18 00:00:00+00</td>\n",
       "      <td>11/18/2004 10:20:00 AM</td>\n",
       "      <td>Mid-Block (not related to intersection)</td>\n",
       "      <td>14</td>\n",
       "      <td>MOTOR VEHICLE STRUCK MOTOR VEHICLE, REAR END</td>\n",
       "      <td>NaN</td>\n",
       "      <td>0</td>\n",
       "      <td>Overcast</td>\n",
       "      <td>Dry</td>\n",
       "      <td>Daylight</td>\n",
       "      <td>NaN</td>\n",
       "      <td>4323031.0</td>\n",
       "      <td>NaN</td>\n",
       "      <td>32</td>\n",
       "      <td>One parked--one moving</td>\n",
       "      <td>0</td>\n",
       "      <td>0</td>\n",
       "      <td>N</td>\n",
       "    </tr>\n",
       "    <tr>\n",
       "      <th>3</th>\n",
       "      <td>1</td>\n",
       "      <td>-122.334803</td>\n",
       "      <td>47.604803</td>\n",
       "      <td>4</td>\n",
       "      <td>1144</td>\n",
       "      <td>1144</td>\n",
       "      <td>3503937</td>\n",
       "      <td>Matched</td>\n",
       "      <td>Block</td>\n",
       "      <td>NaN</td>\n",
       "      <td>2ND AVE BETWEEN MARION ST AND MADISON ST</td>\n",
       "      <td></td>\n",
       "      <td>NaN</td>\n",
       "      <td>1</td>\n",
       "      <td>Property Damage Only Collision</td>\n",
       "      <td>Other</td>\n",
       "      <td>3</td>\n",
       "      <td>0</td>\n",
       "      <td>0</td>\n",
       "      <td>3</td>\n",
       "      <td>2013/03/29 00:00:00+00</td>\n",
       "      <td>3/29/2013 9:26:00 AM</td>\n",
       "      <td>Mid-Block (not related to intersection)</td>\n",
       "      <td>11</td>\n",
       "      <td>MOTOR VEHICLE STRUCK MOTOR VEHICLE, FRONT END ...</td>\n",
       "      <td>NaN</td>\n",
       "      <td>N</td>\n",
       "      <td>Clear</td>\n",
       "      <td>Dry</td>\n",
       "      <td>Daylight</td>\n",
       "      <td>NaN</td>\n",
       "      <td>NaN</td>\n",
       "      <td>NaN</td>\n",
       "      <td>23</td>\n",
       "      <td>From same direction - all others</td>\n",
       "      <td>0</td>\n",
       "      <td>0</td>\n",
       "      <td>N</td>\n",
       "    </tr>\n",
       "    <tr>\n",
       "      <th>4</th>\n",
       "      <td>2</td>\n",
       "      <td>-122.306426</td>\n",
       "      <td>47.545739</td>\n",
       "      <td>5</td>\n",
       "      <td>17700</td>\n",
       "      <td>17700</td>\n",
       "      <td>1807429</td>\n",
       "      <td>Matched</td>\n",
       "      <td>Intersection</td>\n",
       "      <td>34387.0</td>\n",
       "      <td>SWIFT AVE S AND SWIFT AV OFF RP</td>\n",
       "      <td>NaN</td>\n",
       "      <td>NaN</td>\n",
       "      <td>2</td>\n",
       "      <td>Injury Collision</td>\n",
       "      <td>Angles</td>\n",
       "      <td>2</td>\n",
       "      <td>0</td>\n",
       "      <td>0</td>\n",
       "      <td>2</td>\n",
       "      <td>2004/01/28 00:00:00+00</td>\n",
       "      <td>1/28/2004 8:04:00 AM</td>\n",
       "      <td>At Intersection (intersection related)</td>\n",
       "      <td>11</td>\n",
       "      <td>MOTOR VEHICLE STRUCK MOTOR VEHICLE, FRONT END ...</td>\n",
       "      <td>NaN</td>\n",
       "      <td>0</td>\n",
       "      <td>Raining</td>\n",
       "      <td>Wet</td>\n",
       "      <td>Daylight</td>\n",
       "      <td>NaN</td>\n",
       "      <td>4028032.0</td>\n",
       "      <td>NaN</td>\n",
       "      <td>10</td>\n",
       "      <td>Entering at angle</td>\n",
       "      <td>0</td>\n",
       "      <td>0</td>\n",
       "      <td>N</td>\n",
       "    </tr>\n",
       "  </tbody>\n",
       "</table>\n",
       "</div>"
      ],
      "text/plain": [
       "   SEVERITYCODE           X          Y  OBJECTID  INCKEY  COLDETKEY REPORTNO  \\\n",
       "0             2 -122.323148  47.703140         1    1307       1307  3502005   \n",
       "1             1 -122.347294  47.647172         2   52200      52200  2607959   \n",
       "2             1 -122.334540  47.607871         3   26700      26700  1482393   \n",
       "3             1 -122.334803  47.604803         4    1144       1144  3503937   \n",
       "4             2 -122.306426  47.545739         5   17700      17700  1807429   \n",
       "\n",
       "    STATUS      ADDRTYPE   INTKEY  \\\n",
       "0  Matched  Intersection  37475.0   \n",
       "1  Matched         Block      NaN   \n",
       "2  Matched         Block      NaN   \n",
       "3  Matched         Block      NaN   \n",
       "4  Matched  Intersection  34387.0   \n",
       "\n",
       "                                      LOCATION EXCEPTRSNCODE EXCEPTRSNDESC  \\\n",
       "0                   5TH AVE NE AND NE 103RD ST                         NaN   \n",
       "1   AURORA BR BETWEEN RAYE ST AND BRIDGE WAY N           NaN           NaN   \n",
       "2  4TH AVE BETWEEN SENECA ST AND UNIVERSITY ST           NaN           NaN   \n",
       "3     2ND AVE BETWEEN MARION ST AND MADISON ST                         NaN   \n",
       "4              SWIFT AVE S AND SWIFT AV OFF RP           NaN           NaN   \n",
       "\n",
       "   SEVERITYCODE.1                    SEVERITYDESC COLLISIONTYPE  PERSONCOUNT  \\\n",
       "0               2                Injury Collision        Angles            2   \n",
       "1               1  Property Damage Only Collision     Sideswipe            2   \n",
       "2               1  Property Damage Only Collision    Parked Car            4   \n",
       "3               1  Property Damage Only Collision         Other            3   \n",
       "4               2                Injury Collision        Angles            2   \n",
       "\n",
       "   PEDCOUNT  PEDCYLCOUNT  VEHCOUNT                 INCDATE  \\\n",
       "0         0            0         2  2013/03/27 00:00:00+00   \n",
       "1         0            0         2  2006/12/20 00:00:00+00   \n",
       "2         0            0         3  2004/11/18 00:00:00+00   \n",
       "3         0            0         3  2013/03/29 00:00:00+00   \n",
       "4         0            0         2  2004/01/28 00:00:00+00   \n",
       "\n",
       "                  INCDTTM                             JUNCTIONTYPE  \\\n",
       "0    3/27/2013 2:54:00 PM   At Intersection (intersection related)   \n",
       "1   12/20/2006 6:55:00 PM  Mid-Block (not related to intersection)   \n",
       "2  11/18/2004 10:20:00 AM  Mid-Block (not related to intersection)   \n",
       "3    3/29/2013 9:26:00 AM  Mid-Block (not related to intersection)   \n",
       "4    1/28/2004 8:04:00 AM   At Intersection (intersection related)   \n",
       "\n",
       "   SDOT_COLCODE                                       SDOT_COLDESC  \\\n",
       "0            11  MOTOR VEHICLE STRUCK MOTOR VEHICLE, FRONT END ...   \n",
       "1            16  MOTOR VEHICLE STRUCK MOTOR VEHICLE, LEFT SIDE ...   \n",
       "2            14       MOTOR VEHICLE STRUCK MOTOR VEHICLE, REAR END   \n",
       "3            11  MOTOR VEHICLE STRUCK MOTOR VEHICLE, FRONT END ...   \n",
       "4            11  MOTOR VEHICLE STRUCK MOTOR VEHICLE, FRONT END ...   \n",
       "\n",
       "  INATTENTIONIND UNDERINFL   WEATHER ROADCOND                LIGHTCOND  \\\n",
       "0            NaN         N  Overcast      Wet                 Daylight   \n",
       "1            NaN         0   Raining      Wet  Dark - Street Lights On   \n",
       "2            NaN         0  Overcast      Dry                 Daylight   \n",
       "3            NaN         N     Clear      Dry                 Daylight   \n",
       "4            NaN         0   Raining      Wet                 Daylight   \n",
       "\n",
       "  PEDROWNOTGRNT  SDOTCOLNUM SPEEDING ST_COLCODE  \\\n",
       "0           NaN         NaN      NaN         10   \n",
       "1           NaN   6354039.0      NaN         11   \n",
       "2           NaN   4323031.0      NaN         32   \n",
       "3           NaN         NaN      NaN         23   \n",
       "4           NaN   4028032.0      NaN         10   \n",
       "\n",
       "                                          ST_COLDESC  SEGLANEKEY  \\\n",
       "0                                  Entering at angle           0   \n",
       "1  From same direction - both going straight - bo...           0   \n",
       "2                             One parked--one moving           0   \n",
       "3                   From same direction - all others           0   \n",
       "4                                  Entering at angle           0   \n",
       "\n",
       "   CROSSWALKKEY HITPARKEDCAR  \n",
       "0             0            N  \n",
       "1             0            N  \n",
       "2             0            N  \n",
       "3             0            N  \n",
       "4             0            N  "
      ]
     },
     "execution_count": 718,
     "metadata": {},
     "output_type": "execute_result"
    }
   ],
   "source": [
    "df.head()"
   ]
  },
  {
   "cell_type": "markdown",
   "metadata": {},
   "source": [
    "### Data Exploration"
   ]
  },
  {
   "cell_type": "markdown",
   "metadata": {},
   "source": [
    "We want to take a look at the data type we are working with before we start doing visualizations."
   ]
  },
  {
   "cell_type": "code",
   "execution_count": 578,
   "metadata": {},
   "outputs": [
    {
     "data": {
      "text/plain": [
       "SEVERITYCODE        int64\n",
       "X                 float64\n",
       "Y                 float64\n",
       "OBJECTID            int64\n",
       "INCKEY              int64\n",
       "COLDETKEY           int64\n",
       "REPORTNO           object\n",
       "STATUS             object\n",
       "ADDRTYPE           object\n",
       "INTKEY            float64\n",
       "LOCATION           object\n",
       "EXCEPTRSNCODE      object\n",
       "EXCEPTRSNDESC      object\n",
       "SEVERITYCODE.1      int64\n",
       "SEVERITYDESC       object\n",
       "COLLISIONTYPE      object\n",
       "PERSONCOUNT         int64\n",
       "PEDCOUNT            int64\n",
       "PEDCYLCOUNT         int64\n",
       "VEHCOUNT            int64\n",
       "INCDATE            object\n",
       "INCDTTM            object\n",
       "JUNCTIONTYPE       object\n",
       "SDOT_COLCODE        int64\n",
       "SDOT_COLDESC       object\n",
       "INATTENTIONIND     object\n",
       "UNDERINFL          object\n",
       "WEATHER            object\n",
       "ROADCOND           object\n",
       "LIGHTCOND          object\n",
       "PEDROWNOTGRNT      object\n",
       "SDOTCOLNUM        float64\n",
       "SPEEDING           object\n",
       "ST_COLCODE         object\n",
       "ST_COLDESC         object\n",
       "SEGLANEKEY          int64\n",
       "CROSSWALKKEY        int64\n",
       "HITPARKEDCAR       object\n",
       "dtype: object"
      ]
     },
     "execution_count": 578,
     "metadata": {},
     "output_type": "execute_result"
    }
   ],
   "source": [
    "df.dtypes"
   ]
  },
  {
   "cell_type": "markdown",
   "metadata": {},
   "source": [
    "Let's take a look at the describe method."
   ]
  },
  {
   "cell_type": "code",
   "execution_count": 719,
   "metadata": {},
   "outputs": [
    {
     "data": {
      "text/html": [
       "<div>\n",
       "<style scoped>\n",
       "    .dataframe tbody tr th:only-of-type {\n",
       "        vertical-align: middle;\n",
       "    }\n",
       "\n",
       "    .dataframe tbody tr th {\n",
       "        vertical-align: top;\n",
       "    }\n",
       "\n",
       "    .dataframe thead th {\n",
       "        text-align: right;\n",
       "    }\n",
       "</style>\n",
       "<table border=\"1\" class=\"dataframe\">\n",
       "  <thead>\n",
       "    <tr style=\"text-align: right;\">\n",
       "      <th></th>\n",
       "      <th>SEVERITYCODE</th>\n",
       "      <th>X</th>\n",
       "      <th>Y</th>\n",
       "      <th>OBJECTID</th>\n",
       "      <th>INCKEY</th>\n",
       "      <th>COLDETKEY</th>\n",
       "      <th>INTKEY</th>\n",
       "      <th>SEVERITYCODE.1</th>\n",
       "      <th>PERSONCOUNT</th>\n",
       "      <th>PEDCOUNT</th>\n",
       "      <th>PEDCYLCOUNT</th>\n",
       "      <th>VEHCOUNT</th>\n",
       "      <th>SDOT_COLCODE</th>\n",
       "      <th>SDOTCOLNUM</th>\n",
       "      <th>SEGLANEKEY</th>\n",
       "      <th>CROSSWALKKEY</th>\n",
       "    </tr>\n",
       "  </thead>\n",
       "  <tbody>\n",
       "    <tr>\n",
       "      <th>count</th>\n",
       "      <td>194673.000000</td>\n",
       "      <td>189339.000000</td>\n",
       "      <td>189339.000000</td>\n",
       "      <td>194673.000000</td>\n",
       "      <td>194673.000000</td>\n",
       "      <td>194673.000000</td>\n",
       "      <td>65070.000000</td>\n",
       "      <td>194673.000000</td>\n",
       "      <td>194673.000000</td>\n",
       "      <td>194673.000000</td>\n",
       "      <td>194673.000000</td>\n",
       "      <td>194673.000000</td>\n",
       "      <td>194673.000000</td>\n",
       "      <td>1.149360e+05</td>\n",
       "      <td>194673.000000</td>\n",
       "      <td>1.946730e+05</td>\n",
       "    </tr>\n",
       "    <tr>\n",
       "      <th>mean</th>\n",
       "      <td>1.298901</td>\n",
       "      <td>-122.330518</td>\n",
       "      <td>47.619543</td>\n",
       "      <td>108479.364930</td>\n",
       "      <td>141091.456350</td>\n",
       "      <td>141298.811381</td>\n",
       "      <td>37558.450576</td>\n",
       "      <td>1.298901</td>\n",
       "      <td>2.444427</td>\n",
       "      <td>0.037139</td>\n",
       "      <td>0.028391</td>\n",
       "      <td>1.920780</td>\n",
       "      <td>13.867768</td>\n",
       "      <td>7.972521e+06</td>\n",
       "      <td>269.401114</td>\n",
       "      <td>9.782452e+03</td>\n",
       "    </tr>\n",
       "    <tr>\n",
       "      <th>std</th>\n",
       "      <td>0.457778</td>\n",
       "      <td>0.029976</td>\n",
       "      <td>0.056157</td>\n",
       "      <td>62649.722558</td>\n",
       "      <td>86634.402737</td>\n",
       "      <td>86986.542110</td>\n",
       "      <td>51745.990273</td>\n",
       "      <td>0.457778</td>\n",
       "      <td>1.345929</td>\n",
       "      <td>0.198150</td>\n",
       "      <td>0.167413</td>\n",
       "      <td>0.631047</td>\n",
       "      <td>6.868755</td>\n",
       "      <td>2.553533e+06</td>\n",
       "      <td>3315.776055</td>\n",
       "      <td>7.226926e+04</td>\n",
       "    </tr>\n",
       "    <tr>\n",
       "      <th>min</th>\n",
       "      <td>1.000000</td>\n",
       "      <td>-122.419091</td>\n",
       "      <td>47.495573</td>\n",
       "      <td>1.000000</td>\n",
       "      <td>1001.000000</td>\n",
       "      <td>1001.000000</td>\n",
       "      <td>23807.000000</td>\n",
       "      <td>1.000000</td>\n",
       "      <td>0.000000</td>\n",
       "      <td>0.000000</td>\n",
       "      <td>0.000000</td>\n",
       "      <td>0.000000</td>\n",
       "      <td>0.000000</td>\n",
       "      <td>1.007024e+06</td>\n",
       "      <td>0.000000</td>\n",
       "      <td>0.000000e+00</td>\n",
       "    </tr>\n",
       "    <tr>\n",
       "      <th>25%</th>\n",
       "      <td>1.000000</td>\n",
       "      <td>-122.348673</td>\n",
       "      <td>47.575956</td>\n",
       "      <td>54267.000000</td>\n",
       "      <td>70383.000000</td>\n",
       "      <td>70383.000000</td>\n",
       "      <td>28667.000000</td>\n",
       "      <td>1.000000</td>\n",
       "      <td>2.000000</td>\n",
       "      <td>0.000000</td>\n",
       "      <td>0.000000</td>\n",
       "      <td>2.000000</td>\n",
       "      <td>11.000000</td>\n",
       "      <td>6.040015e+06</td>\n",
       "      <td>0.000000</td>\n",
       "      <td>0.000000e+00</td>\n",
       "    </tr>\n",
       "    <tr>\n",
       "      <th>50%</th>\n",
       "      <td>1.000000</td>\n",
       "      <td>-122.330224</td>\n",
       "      <td>47.615369</td>\n",
       "      <td>106912.000000</td>\n",
       "      <td>123363.000000</td>\n",
       "      <td>123363.000000</td>\n",
       "      <td>29973.000000</td>\n",
       "      <td>1.000000</td>\n",
       "      <td>2.000000</td>\n",
       "      <td>0.000000</td>\n",
       "      <td>0.000000</td>\n",
       "      <td>2.000000</td>\n",
       "      <td>13.000000</td>\n",
       "      <td>8.023022e+06</td>\n",
       "      <td>0.000000</td>\n",
       "      <td>0.000000e+00</td>\n",
       "    </tr>\n",
       "    <tr>\n",
       "      <th>75%</th>\n",
       "      <td>2.000000</td>\n",
       "      <td>-122.311937</td>\n",
       "      <td>47.663664</td>\n",
       "      <td>162272.000000</td>\n",
       "      <td>203319.000000</td>\n",
       "      <td>203459.000000</td>\n",
       "      <td>33973.000000</td>\n",
       "      <td>2.000000</td>\n",
       "      <td>3.000000</td>\n",
       "      <td>0.000000</td>\n",
       "      <td>0.000000</td>\n",
       "      <td>2.000000</td>\n",
       "      <td>14.000000</td>\n",
       "      <td>1.015501e+07</td>\n",
       "      <td>0.000000</td>\n",
       "      <td>0.000000e+00</td>\n",
       "    </tr>\n",
       "    <tr>\n",
       "      <th>max</th>\n",
       "      <td>2.000000</td>\n",
       "      <td>-122.238949</td>\n",
       "      <td>47.734142</td>\n",
       "      <td>219547.000000</td>\n",
       "      <td>331454.000000</td>\n",
       "      <td>332954.000000</td>\n",
       "      <td>757580.000000</td>\n",
       "      <td>2.000000</td>\n",
       "      <td>81.000000</td>\n",
       "      <td>6.000000</td>\n",
       "      <td>2.000000</td>\n",
       "      <td>12.000000</td>\n",
       "      <td>69.000000</td>\n",
       "      <td>1.307202e+07</td>\n",
       "      <td>525241.000000</td>\n",
       "      <td>5.239700e+06</td>\n",
       "    </tr>\n",
       "  </tbody>\n",
       "</table>\n",
       "</div>"
      ],
      "text/plain": [
       "        SEVERITYCODE              X              Y       OBJECTID  \\\n",
       "count  194673.000000  189339.000000  189339.000000  194673.000000   \n",
       "mean        1.298901    -122.330518      47.619543  108479.364930   \n",
       "std         0.457778       0.029976       0.056157   62649.722558   \n",
       "min         1.000000    -122.419091      47.495573       1.000000   \n",
       "25%         1.000000    -122.348673      47.575956   54267.000000   \n",
       "50%         1.000000    -122.330224      47.615369  106912.000000   \n",
       "75%         2.000000    -122.311937      47.663664  162272.000000   \n",
       "max         2.000000    -122.238949      47.734142  219547.000000   \n",
       "\n",
       "              INCKEY      COLDETKEY         INTKEY  SEVERITYCODE.1  \\\n",
       "count  194673.000000  194673.000000   65070.000000   194673.000000   \n",
       "mean   141091.456350  141298.811381   37558.450576        1.298901   \n",
       "std     86634.402737   86986.542110   51745.990273        0.457778   \n",
       "min      1001.000000    1001.000000   23807.000000        1.000000   \n",
       "25%     70383.000000   70383.000000   28667.000000        1.000000   \n",
       "50%    123363.000000  123363.000000   29973.000000        1.000000   \n",
       "75%    203319.000000  203459.000000   33973.000000        2.000000   \n",
       "max    331454.000000  332954.000000  757580.000000        2.000000   \n",
       "\n",
       "         PERSONCOUNT       PEDCOUNT    PEDCYLCOUNT       VEHCOUNT  \\\n",
       "count  194673.000000  194673.000000  194673.000000  194673.000000   \n",
       "mean        2.444427       0.037139       0.028391       1.920780   \n",
       "std         1.345929       0.198150       0.167413       0.631047   \n",
       "min         0.000000       0.000000       0.000000       0.000000   \n",
       "25%         2.000000       0.000000       0.000000       2.000000   \n",
       "50%         2.000000       0.000000       0.000000       2.000000   \n",
       "75%         3.000000       0.000000       0.000000       2.000000   \n",
       "max        81.000000       6.000000       2.000000      12.000000   \n",
       "\n",
       "        SDOT_COLCODE    SDOTCOLNUM     SEGLANEKEY  CROSSWALKKEY  \n",
       "count  194673.000000  1.149360e+05  194673.000000  1.946730e+05  \n",
       "mean       13.867768  7.972521e+06     269.401114  9.782452e+03  \n",
       "std         6.868755  2.553533e+06    3315.776055  7.226926e+04  \n",
       "min         0.000000  1.007024e+06       0.000000  0.000000e+00  \n",
       "25%        11.000000  6.040015e+06       0.000000  0.000000e+00  \n",
       "50%        13.000000  8.023022e+06       0.000000  0.000000e+00  \n",
       "75%        14.000000  1.015501e+07       0.000000  0.000000e+00  \n",
       "max        69.000000  1.307202e+07  525241.000000  5.239700e+06  "
      ]
     },
     "execution_count": 719,
     "metadata": {},
     "output_type": "execute_result"
    }
   ],
   "source": [
    "df.describe()"
   ]
  },
  {
   "cell_type": "markdown",
   "metadata": {},
   "source": [
    "We can also use the correlation method to look at the correlation between different numerical variables in the cell below."
   ]
  },
  {
   "cell_type": "code",
   "execution_count": 720,
   "metadata": {},
   "outputs": [
    {
     "data": {
      "text/html": [
       "<div>\n",
       "<style scoped>\n",
       "    .dataframe tbody tr th:only-of-type {\n",
       "        vertical-align: middle;\n",
       "    }\n",
       "\n",
       "    .dataframe tbody tr th {\n",
       "        vertical-align: top;\n",
       "    }\n",
       "\n",
       "    .dataframe thead th {\n",
       "        text-align: right;\n",
       "    }\n",
       "</style>\n",
       "<table border=\"1\" class=\"dataframe\">\n",
       "  <thead>\n",
       "    <tr style=\"text-align: right;\">\n",
       "      <th></th>\n",
       "      <th>SEVERITYCODE</th>\n",
       "      <th>X</th>\n",
       "      <th>Y</th>\n",
       "      <th>OBJECTID</th>\n",
       "      <th>INCKEY</th>\n",
       "      <th>COLDETKEY</th>\n",
       "      <th>INTKEY</th>\n",
       "      <th>SEVERITYCODE.1</th>\n",
       "      <th>PERSONCOUNT</th>\n",
       "      <th>PEDCOUNT</th>\n",
       "      <th>PEDCYLCOUNT</th>\n",
       "      <th>VEHCOUNT</th>\n",
       "      <th>SDOT_COLCODE</th>\n",
       "      <th>SDOTCOLNUM</th>\n",
       "      <th>SEGLANEKEY</th>\n",
       "      <th>CROSSWALKKEY</th>\n",
       "    </tr>\n",
       "  </thead>\n",
       "  <tbody>\n",
       "    <tr>\n",
       "      <th>SEVERITYCODE</th>\n",
       "      <td>1.000000</td>\n",
       "      <td>0.010309</td>\n",
       "      <td>0.017737</td>\n",
       "      <td>0.020131</td>\n",
       "      <td>0.022065</td>\n",
       "      <td>0.022079</td>\n",
       "      <td>0.006553</td>\n",
       "      <td>1.000000</td>\n",
       "      <td>0.130949</td>\n",
       "      <td>0.246338</td>\n",
       "      <td>0.214218</td>\n",
       "      <td>-0.054686</td>\n",
       "      <td>0.188905</td>\n",
       "      <td>0.004226</td>\n",
       "      <td>0.104276</td>\n",
       "      <td>0.175093</td>\n",
       "    </tr>\n",
       "    <tr>\n",
       "      <th>X</th>\n",
       "      <td>0.010309</td>\n",
       "      <td>1.000000</td>\n",
       "      <td>-0.160262</td>\n",
       "      <td>0.009956</td>\n",
       "      <td>0.010309</td>\n",
       "      <td>0.010300</td>\n",
       "      <td>0.120754</td>\n",
       "      <td>0.010309</td>\n",
       "      <td>0.012887</td>\n",
       "      <td>0.011304</td>\n",
       "      <td>-0.001752</td>\n",
       "      <td>-0.012168</td>\n",
       "      <td>0.010904</td>\n",
       "      <td>-0.001016</td>\n",
       "      <td>-0.001618</td>\n",
       "      <td>0.013586</td>\n",
       "    </tr>\n",
       "    <tr>\n",
       "      <th>Y</th>\n",
       "      <td>0.017737</td>\n",
       "      <td>-0.160262</td>\n",
       "      <td>1.000000</td>\n",
       "      <td>-0.023848</td>\n",
       "      <td>-0.027396</td>\n",
       "      <td>-0.027415</td>\n",
       "      <td>-0.114935</td>\n",
       "      <td>0.017737</td>\n",
       "      <td>-0.013850</td>\n",
       "      <td>0.010178</td>\n",
       "      <td>0.026304</td>\n",
       "      <td>0.017058</td>\n",
       "      <td>-0.019694</td>\n",
       "      <td>-0.006958</td>\n",
       "      <td>0.004618</td>\n",
       "      <td>0.009508</td>\n",
       "    </tr>\n",
       "    <tr>\n",
       "      <th>OBJECTID</th>\n",
       "      <td>0.020131</td>\n",
       "      <td>0.009956</td>\n",
       "      <td>-0.023848</td>\n",
       "      <td>1.000000</td>\n",
       "      <td>0.946383</td>\n",
       "      <td>0.945837</td>\n",
       "      <td>0.046929</td>\n",
       "      <td>0.020131</td>\n",
       "      <td>-0.062333</td>\n",
       "      <td>0.024604</td>\n",
       "      <td>0.034432</td>\n",
       "      <td>-0.094280</td>\n",
       "      <td>-0.037094</td>\n",
       "      <td>0.969276</td>\n",
       "      <td>0.028076</td>\n",
       "      <td>0.056046</td>\n",
       "    </tr>\n",
       "    <tr>\n",
       "      <th>INCKEY</th>\n",
       "      <td>0.022065</td>\n",
       "      <td>0.010309</td>\n",
       "      <td>-0.027396</td>\n",
       "      <td>0.946383</td>\n",
       "      <td>1.000000</td>\n",
       "      <td>0.999996</td>\n",
       "      <td>0.048524</td>\n",
       "      <td>0.022065</td>\n",
       "      <td>-0.061500</td>\n",
       "      <td>0.024918</td>\n",
       "      <td>0.031342</td>\n",
       "      <td>-0.107528</td>\n",
       "      <td>-0.027617</td>\n",
       "      <td>0.990571</td>\n",
       "      <td>0.019701</td>\n",
       "      <td>0.048179</td>\n",
       "    </tr>\n",
       "    <tr>\n",
       "      <th>COLDETKEY</th>\n",
       "      <td>0.022079</td>\n",
       "      <td>0.010300</td>\n",
       "      <td>-0.027415</td>\n",
       "      <td>0.945837</td>\n",
       "      <td>0.999996</td>\n",
       "      <td>1.000000</td>\n",
       "      <td>0.048499</td>\n",
       "      <td>0.022079</td>\n",
       "      <td>-0.061403</td>\n",
       "      <td>0.024914</td>\n",
       "      <td>0.031296</td>\n",
       "      <td>-0.107598</td>\n",
       "      <td>-0.027461</td>\n",
       "      <td>0.990571</td>\n",
       "      <td>0.019586</td>\n",
       "      <td>0.048063</td>\n",
       "    </tr>\n",
       "    <tr>\n",
       "      <th>INTKEY</th>\n",
       "      <td>0.006553</td>\n",
       "      <td>0.120754</td>\n",
       "      <td>-0.114935</td>\n",
       "      <td>0.046929</td>\n",
       "      <td>0.048524</td>\n",
       "      <td>0.048499</td>\n",
       "      <td>1.000000</td>\n",
       "      <td>0.006553</td>\n",
       "      <td>0.001886</td>\n",
       "      <td>-0.004784</td>\n",
       "      <td>0.000531</td>\n",
       "      <td>-0.012929</td>\n",
       "      <td>0.007114</td>\n",
       "      <td>0.032604</td>\n",
       "      <td>-0.010510</td>\n",
       "      <td>0.018420</td>\n",
       "    </tr>\n",
       "    <tr>\n",
       "      <th>SEVERITYCODE.1</th>\n",
       "      <td>1.000000</td>\n",
       "      <td>0.010309</td>\n",
       "      <td>0.017737</td>\n",
       "      <td>0.020131</td>\n",
       "      <td>0.022065</td>\n",
       "      <td>0.022079</td>\n",
       "      <td>0.006553</td>\n",
       "      <td>1.000000</td>\n",
       "      <td>0.130949</td>\n",
       "      <td>0.246338</td>\n",
       "      <td>0.214218</td>\n",
       "      <td>-0.054686</td>\n",
       "      <td>0.188905</td>\n",
       "      <td>0.004226</td>\n",
       "      <td>0.104276</td>\n",
       "      <td>0.175093</td>\n",
       "    </tr>\n",
       "    <tr>\n",
       "      <th>PERSONCOUNT</th>\n",
       "      <td>0.130949</td>\n",
       "      <td>0.012887</td>\n",
       "      <td>-0.013850</td>\n",
       "      <td>-0.062333</td>\n",
       "      <td>-0.061500</td>\n",
       "      <td>-0.061403</td>\n",
       "      <td>0.001886</td>\n",
       "      <td>0.130949</td>\n",
       "      <td>1.000000</td>\n",
       "      <td>-0.023464</td>\n",
       "      <td>-0.038809</td>\n",
       "      <td>0.380523</td>\n",
       "      <td>-0.128960</td>\n",
       "      <td>0.011784</td>\n",
       "      <td>-0.021383</td>\n",
       "      <td>-0.032258</td>\n",
       "    </tr>\n",
       "    <tr>\n",
       "      <th>PEDCOUNT</th>\n",
       "      <td>0.246338</td>\n",
       "      <td>0.011304</td>\n",
       "      <td>0.010178</td>\n",
       "      <td>0.024604</td>\n",
       "      <td>0.024918</td>\n",
       "      <td>0.024914</td>\n",
       "      <td>-0.004784</td>\n",
       "      <td>0.246338</td>\n",
       "      <td>-0.023464</td>\n",
       "      <td>1.000000</td>\n",
       "      <td>-0.016920</td>\n",
       "      <td>-0.261285</td>\n",
       "      <td>0.260393</td>\n",
       "      <td>0.021461</td>\n",
       "      <td>0.001810</td>\n",
       "      <td>0.565326</td>\n",
       "    </tr>\n",
       "    <tr>\n",
       "      <th>PEDCYLCOUNT</th>\n",
       "      <td>0.214218</td>\n",
       "      <td>-0.001752</td>\n",
       "      <td>0.026304</td>\n",
       "      <td>0.034432</td>\n",
       "      <td>0.031342</td>\n",
       "      <td>0.031296</td>\n",
       "      <td>0.000531</td>\n",
       "      <td>0.214218</td>\n",
       "      <td>-0.038809</td>\n",
       "      <td>-0.016920</td>\n",
       "      <td>1.000000</td>\n",
       "      <td>-0.253773</td>\n",
       "      <td>0.382521</td>\n",
       "      <td>0.034593</td>\n",
       "      <td>0.453657</td>\n",
       "      <td>0.109820</td>\n",
       "    </tr>\n",
       "    <tr>\n",
       "      <th>VEHCOUNT</th>\n",
       "      <td>-0.054686</td>\n",
       "      <td>-0.012168</td>\n",
       "      <td>0.017058</td>\n",
       "      <td>-0.094280</td>\n",
       "      <td>-0.107528</td>\n",
       "      <td>-0.107598</td>\n",
       "      <td>-0.012929</td>\n",
       "      <td>-0.054686</td>\n",
       "      <td>0.380523</td>\n",
       "      <td>-0.261285</td>\n",
       "      <td>-0.253773</td>\n",
       "      <td>1.000000</td>\n",
       "      <td>-0.365814</td>\n",
       "      <td>-0.023813</td>\n",
       "      <td>-0.122941</td>\n",
       "      <td>-0.200526</td>\n",
       "    </tr>\n",
       "    <tr>\n",
       "      <th>SDOT_COLCODE</th>\n",
       "      <td>0.188905</td>\n",
       "      <td>0.010904</td>\n",
       "      <td>-0.019694</td>\n",
       "      <td>-0.037094</td>\n",
       "      <td>-0.027617</td>\n",
       "      <td>-0.027461</td>\n",
       "      <td>0.007114</td>\n",
       "      <td>0.188905</td>\n",
       "      <td>-0.128960</td>\n",
       "      <td>0.260393</td>\n",
       "      <td>0.382521</td>\n",
       "      <td>-0.365814</td>\n",
       "      <td>1.000000</td>\n",
       "      <td>-0.041084</td>\n",
       "      <td>0.206835</td>\n",
       "      <td>0.189518</td>\n",
       "    </tr>\n",
       "    <tr>\n",
       "      <th>SDOTCOLNUM</th>\n",
       "      <td>0.004226</td>\n",
       "      <td>-0.001016</td>\n",
       "      <td>-0.006958</td>\n",
       "      <td>0.969276</td>\n",
       "      <td>0.990571</td>\n",
       "      <td>0.990571</td>\n",
       "      <td>0.032604</td>\n",
       "      <td>0.004226</td>\n",
       "      <td>0.011784</td>\n",
       "      <td>0.021461</td>\n",
       "      <td>0.034593</td>\n",
       "      <td>-0.023813</td>\n",
       "      <td>-0.041084</td>\n",
       "      <td>1.000000</td>\n",
       "      <td>0.066449</td>\n",
       "      <td>0.086228</td>\n",
       "    </tr>\n",
       "    <tr>\n",
       "      <th>SEGLANEKEY</th>\n",
       "      <td>0.104276</td>\n",
       "      <td>-0.001618</td>\n",
       "      <td>0.004618</td>\n",
       "      <td>0.028076</td>\n",
       "      <td>0.019701</td>\n",
       "      <td>0.019586</td>\n",
       "      <td>-0.010510</td>\n",
       "      <td>0.104276</td>\n",
       "      <td>-0.021383</td>\n",
       "      <td>0.001810</td>\n",
       "      <td>0.453657</td>\n",
       "      <td>-0.122941</td>\n",
       "      <td>0.206835</td>\n",
       "      <td>0.066449</td>\n",
       "      <td>1.000000</td>\n",
       "      <td>-0.003422</td>\n",
       "    </tr>\n",
       "    <tr>\n",
       "      <th>CROSSWALKKEY</th>\n",
       "      <td>0.175093</td>\n",
       "      <td>0.013586</td>\n",
       "      <td>0.009508</td>\n",
       "      <td>0.056046</td>\n",
       "      <td>0.048179</td>\n",
       "      <td>0.048063</td>\n",
       "      <td>0.018420</td>\n",
       "      <td>0.175093</td>\n",
       "      <td>-0.032258</td>\n",
       "      <td>0.565326</td>\n",
       "      <td>0.109820</td>\n",
       "      <td>-0.200526</td>\n",
       "      <td>0.189518</td>\n",
       "      <td>0.086228</td>\n",
       "      <td>-0.003422</td>\n",
       "      <td>1.000000</td>\n",
       "    </tr>\n",
       "  </tbody>\n",
       "</table>\n",
       "</div>"
      ],
      "text/plain": [
       "                SEVERITYCODE         X         Y  OBJECTID    INCKEY  \\\n",
       "SEVERITYCODE        1.000000  0.010309  0.017737  0.020131  0.022065   \n",
       "X                   0.010309  1.000000 -0.160262  0.009956  0.010309   \n",
       "Y                   0.017737 -0.160262  1.000000 -0.023848 -0.027396   \n",
       "OBJECTID            0.020131  0.009956 -0.023848  1.000000  0.946383   \n",
       "INCKEY              0.022065  0.010309 -0.027396  0.946383  1.000000   \n",
       "COLDETKEY           0.022079  0.010300 -0.027415  0.945837  0.999996   \n",
       "INTKEY              0.006553  0.120754 -0.114935  0.046929  0.048524   \n",
       "SEVERITYCODE.1      1.000000  0.010309  0.017737  0.020131  0.022065   \n",
       "PERSONCOUNT         0.130949  0.012887 -0.013850 -0.062333 -0.061500   \n",
       "PEDCOUNT            0.246338  0.011304  0.010178  0.024604  0.024918   \n",
       "PEDCYLCOUNT         0.214218 -0.001752  0.026304  0.034432  0.031342   \n",
       "VEHCOUNT           -0.054686 -0.012168  0.017058 -0.094280 -0.107528   \n",
       "SDOT_COLCODE        0.188905  0.010904 -0.019694 -0.037094 -0.027617   \n",
       "SDOTCOLNUM          0.004226 -0.001016 -0.006958  0.969276  0.990571   \n",
       "SEGLANEKEY          0.104276 -0.001618  0.004618  0.028076  0.019701   \n",
       "CROSSWALKKEY        0.175093  0.013586  0.009508  0.056046  0.048179   \n",
       "\n",
       "                COLDETKEY    INTKEY  SEVERITYCODE.1  PERSONCOUNT  PEDCOUNT  \\\n",
       "SEVERITYCODE     0.022079  0.006553        1.000000     0.130949  0.246338   \n",
       "X                0.010300  0.120754        0.010309     0.012887  0.011304   \n",
       "Y               -0.027415 -0.114935        0.017737    -0.013850  0.010178   \n",
       "OBJECTID         0.945837  0.046929        0.020131    -0.062333  0.024604   \n",
       "INCKEY           0.999996  0.048524        0.022065    -0.061500  0.024918   \n",
       "COLDETKEY        1.000000  0.048499        0.022079    -0.061403  0.024914   \n",
       "INTKEY           0.048499  1.000000        0.006553     0.001886 -0.004784   \n",
       "SEVERITYCODE.1   0.022079  0.006553        1.000000     0.130949  0.246338   \n",
       "PERSONCOUNT     -0.061403  0.001886        0.130949     1.000000 -0.023464   \n",
       "PEDCOUNT         0.024914 -0.004784        0.246338    -0.023464  1.000000   \n",
       "PEDCYLCOUNT      0.031296  0.000531        0.214218    -0.038809 -0.016920   \n",
       "VEHCOUNT        -0.107598 -0.012929       -0.054686     0.380523 -0.261285   \n",
       "SDOT_COLCODE    -0.027461  0.007114        0.188905    -0.128960  0.260393   \n",
       "SDOTCOLNUM       0.990571  0.032604        0.004226     0.011784  0.021461   \n",
       "SEGLANEKEY       0.019586 -0.010510        0.104276    -0.021383  0.001810   \n",
       "CROSSWALKKEY     0.048063  0.018420        0.175093    -0.032258  0.565326   \n",
       "\n",
       "                PEDCYLCOUNT  VEHCOUNT  SDOT_COLCODE  SDOTCOLNUM  SEGLANEKEY  \\\n",
       "SEVERITYCODE       0.214218 -0.054686      0.188905    0.004226    0.104276   \n",
       "X                 -0.001752 -0.012168      0.010904   -0.001016   -0.001618   \n",
       "Y                  0.026304  0.017058     -0.019694   -0.006958    0.004618   \n",
       "OBJECTID           0.034432 -0.094280     -0.037094    0.969276    0.028076   \n",
       "INCKEY             0.031342 -0.107528     -0.027617    0.990571    0.019701   \n",
       "COLDETKEY          0.031296 -0.107598     -0.027461    0.990571    0.019586   \n",
       "INTKEY             0.000531 -0.012929      0.007114    0.032604   -0.010510   \n",
       "SEVERITYCODE.1     0.214218 -0.054686      0.188905    0.004226    0.104276   \n",
       "PERSONCOUNT       -0.038809  0.380523     -0.128960    0.011784   -0.021383   \n",
       "PEDCOUNT          -0.016920 -0.261285      0.260393    0.021461    0.001810   \n",
       "PEDCYLCOUNT        1.000000 -0.253773      0.382521    0.034593    0.453657   \n",
       "VEHCOUNT          -0.253773  1.000000     -0.365814   -0.023813   -0.122941   \n",
       "SDOT_COLCODE       0.382521 -0.365814      1.000000   -0.041084    0.206835   \n",
       "SDOTCOLNUM         0.034593 -0.023813     -0.041084    1.000000    0.066449   \n",
       "SEGLANEKEY         0.453657 -0.122941      0.206835    0.066449    1.000000   \n",
       "CROSSWALKKEY       0.109820 -0.200526      0.189518    0.086228   -0.003422   \n",
       "\n",
       "                CROSSWALKKEY  \n",
       "SEVERITYCODE        0.175093  \n",
       "X                   0.013586  \n",
       "Y                   0.009508  \n",
       "OBJECTID            0.056046  \n",
       "INCKEY              0.048179  \n",
       "COLDETKEY           0.048063  \n",
       "INTKEY              0.018420  \n",
       "SEVERITYCODE.1      0.175093  \n",
       "PERSONCOUNT        -0.032258  \n",
       "PEDCOUNT            0.565326  \n",
       "PEDCYLCOUNT         0.109820  \n",
       "VEHCOUNT           -0.200526  \n",
       "SDOT_COLCODE        0.189518  \n",
       "SDOTCOLNUM          0.086228  \n",
       "SEGLANEKEY         -0.003422  \n",
       "CROSSWALKKEY        1.000000  "
      ]
     },
     "execution_count": 720,
     "metadata": {},
     "output_type": "execute_result"
    }
   ],
   "source": [
    "df.corr()"
   ]
  },
  {
   "cell_type": "markdown",
   "metadata": {},
   "source": [
    "Perhaps the collision type will tell us more about the dataset. "
   ]
  },
  {
   "cell_type": "code",
   "execution_count": 721,
   "metadata": {},
   "outputs": [
    {
     "data": {
      "text/html": [
       "<div>\n",
       "<style scoped>\n",
       "    .dataframe tbody tr th:only-of-type {\n",
       "        vertical-align: middle;\n",
       "    }\n",
       "\n",
       "    .dataframe tbody tr th {\n",
       "        vertical-align: top;\n",
       "    }\n",
       "\n",
       "    .dataframe thead th {\n",
       "        text-align: right;\n",
       "    }\n",
       "</style>\n",
       "<table border=\"1\" class=\"dataframe\">\n",
       "  <thead>\n",
       "    <tr style=\"text-align: right;\">\n",
       "      <th></th>\n",
       "      <th>COLLISIONTYPE</th>\n",
       "    </tr>\n",
       "  </thead>\n",
       "  <tbody>\n",
       "    <tr>\n",
       "      <th>Parked Car</th>\n",
       "      <td>47987</td>\n",
       "    </tr>\n",
       "    <tr>\n",
       "      <th>Angles</th>\n",
       "      <td>34674</td>\n",
       "    </tr>\n",
       "    <tr>\n",
       "      <th>Rear Ended</th>\n",
       "      <td>34090</td>\n",
       "    </tr>\n",
       "    <tr>\n",
       "      <th>Other</th>\n",
       "      <td>23703</td>\n",
       "    </tr>\n",
       "    <tr>\n",
       "      <th>Sideswipe</th>\n",
       "      <td>18609</td>\n",
       "    </tr>\n",
       "    <tr>\n",
       "      <th>Left Turn</th>\n",
       "      <td>13703</td>\n",
       "    </tr>\n",
       "    <tr>\n",
       "      <th>Pedestrian</th>\n",
       "      <td>6608</td>\n",
       "    </tr>\n",
       "    <tr>\n",
       "      <th>Cycles</th>\n",
       "      <td>5415</td>\n",
       "    </tr>\n",
       "    <tr>\n",
       "      <th>Right Turn</th>\n",
       "      <td>2956</td>\n",
       "    </tr>\n",
       "    <tr>\n",
       "      <th>Head On</th>\n",
       "      <td>2024</td>\n",
       "    </tr>\n",
       "  </tbody>\n",
       "</table>\n",
       "</div>"
      ],
      "text/plain": [
       "            COLLISIONTYPE\n",
       "Parked Car          47987\n",
       "Angles              34674\n",
       "Rear Ended          34090\n",
       "Other               23703\n",
       "Sideswipe           18609\n",
       "Left Turn           13703\n",
       "Pedestrian           6608\n",
       "Cycles               5415\n",
       "Right Turn           2956\n",
       "Head On              2024"
      ]
     },
     "execution_count": 721,
     "metadata": {},
     "output_type": "execute_result"
    }
   ],
   "source": [
    "pd.value_counts(df['COLLISIONTYPE']).to_frame()"
   ]
  },
  {
   "cell_type": "markdown",
   "metadata": {},
   "source": [
    "Here we can see that we have 189,769 collision events that we will be using in our capstone."
   ]
  },
  {
   "cell_type": "code",
   "execution_count": 722,
   "metadata": {},
   "outputs": [
    {
     "data": {
      "text/plain": [
       "189769"
      ]
     },
     "execution_count": 722,
     "metadata": {},
     "output_type": "execute_result"
    }
   ],
   "source": [
    "total_collisions = df.COLLISIONTYPE.count()\n",
    "total_collisions"
   ]
  },
  {
   "cell_type": "markdown",
   "metadata": {},
   "source": [
    "The number of nans in the \"COLLISIONTYPE\" column is 4,904 values."
   ]
  },
  {
   "cell_type": "code",
   "execution_count": 583,
   "metadata": {},
   "outputs": [
    {
     "data": {
      "text/plain": [
       "4904"
      ]
     },
     "execution_count": 583,
     "metadata": {},
     "output_type": "execute_result"
    }
   ],
   "source": [
    "df['COLLISIONTYPE'].isna().sum()\n"
   ]
  },
  {
   "cell_type": "markdown",
   "metadata": {},
   "source": [
    "First we can plot the first two columns in our dataset, which are the longitude and latitude where the accidents occured. You can see that there are gridlines of where the accidents occured. This makes sense because the accidents occured on roadways and should show this grid-like structure. This is really useful to know, however, to find out which types of roads these are (rural, suburban, highway, etc.), we would need to invest some time and probably money to acquire that information and the geolocation data. If we had that information then we could add it to our model, but for now we will not."
   ]
  },
  {
   "cell_type": "code",
   "execution_count": 584,
   "metadata": {},
   "outputs": [
    {
     "data": {
      "image/png": "[encoded data removed]",
      "text/plain": [
       "<Figure size 576x288 with 2 Axes>"
      ]
     },
     "metadata": {
      "needs_background": "light"
     },
     "output_type": "display_data"
    }
   ],
   "source": [
    "fig, axs = plt.subplots(1,2, figsize=(8,4))\n",
    "for (ax, (code, d)) in zip(axs, df.groupby('SEVERITYCODE')):\n",
    "    ax.scatter(d.X, d.Y, s=1, alpha=.05)\n",
    "    ax.set(xlabel='latitude', ylabel='longitude', title='severity code = {}'.format(code))\n",
    "\n",
    "plt.tight_layout()\n",
    "# plt.savefig('images/latitude_longitude_severity_code.png')\n"
   ]
  },
  {
   "cell_type": "markdown",
   "metadata": {},
   "source": [
    "Now, let's take a look at some histograms and crunch some numbers for our features."
   ]
  },
  {
   "cell_type": "code",
   "execution_count": 585,
   "metadata": {},
   "outputs": [
    {
     "data": {
      "text/plain": [
       "1.0665598701579289"
      ]
     },
     "execution_count": 585,
     "metadata": {},
     "output_type": "execute_result"
    }
   ],
   "source": [
    "df[df['COLLISIONTYPE'] == 'Head On']['COLLISIONTYPE'].count()/total_collisions*100"
   ]
  },
  {
   "cell_type": "code",
   "execution_count": 586,
   "metadata": {},
   "outputs": [
    {
     "data": {
      "text/plain": [
       "25.287059530271012"
      ]
     },
     "execution_count": 586,
     "metadata": {},
     "output_type": "execute_result"
    }
   ],
   "source": [
    "df[df['COLLISIONTYPE'] == 'Parked Car']['COLLISIONTYPE'].count()/total_collisions*100"
   ]
  },
  {
   "cell_type": "markdown",
   "metadata": {},
   "source": [
    "Below you can see a histogram of the collision type. Here you can see that an accident involving a parked car happens 25% of the time in an accident than a head-on collision which is rarer and occurs around 1.0% of the time. "
   ]
  },
  {
   "cell_type": "code",
   "execution_count": 587,
   "metadata": {},
   "outputs": [
    {
     "data": {
      "image/png": "[encoded data removed]",
      "text/plain": [
       "<Figure size 576x216 with 1 Axes>"
      ]
     },
     "metadata": {
      "needs_background": "light"
     },
     "output_type": "display_data"
    }
   ],
   "source": [
    "fig, ax = plt.subplots(figsize=(8,3))\n",
    "df['COLLISIONTYPE'].value_counts().plot.barh(ax=ax)\n",
    "ax.set(xlabel='counts', ylabel='collision type')\n",
    "plt.tight_layout()\n",
    "# plt.savefig('images/collision_type_vs_counts.png')"
   ]
  },
  {
   "cell_type": "markdown",
   "metadata": {},
   "source": [
    "Below, we look at the junction type and see that non-intersection accidents are most prevelant followed by intersections. "
   ]
  },
  {
   "cell_type": "code",
   "execution_count": 588,
   "metadata": {},
   "outputs": [
    {
     "data": {
      "image/png": "[encoded data removed]",
      "text/plain": [
       "<Figure size 576x216 with 1 Axes>"
      ]
     },
     "metadata": {
      "needs_background": "light"
     },
     "output_type": "display_data"
    }
   ],
   "source": [
    "fig, ax = plt.subplots(figsize=(8,3))\n",
    "df['JUNCTIONTYPE'].value_counts().plot.barh(ax=ax)\n",
    "ax.set(xlabel='counts', )\n",
    "plt.tight_layout()\n",
    "# plt.savefig('images/junctiontype_vs_counts.png')"
   ]
  },
  {
   "cell_type": "markdown",
   "metadata": {},
   "source": [
    "Corresponding to the plot we just saw, you can see that the address type corresponds to one that occurs on the plot, confirming that the results in the previous plot make sense."
   ]
  },
  {
   "cell_type": "code",
   "execution_count": 589,
   "metadata": {},
   "outputs": [
    {
     "data": {
      "image/png": "[encoded data removed]",
      "text/plain": [
       "<Figure size 576x216 with 1 Axes>"
      ]
     },
     "metadata": {
      "needs_background": "light"
     },
     "output_type": "display_data"
    }
   ],
   "source": [
    "fig, ax = plt.subplots(figsize=(8,3))\n",
    "df['ADDRTYPE'].value_counts().plot.barh(ax=ax)\n",
    "ax.set(xlabel='counts', )\n",
    "plt.tight_layout()\n",
    "# plt.savefig('images/intersection_vs_counts.png')"
   ]
  },
  {
   "cell_type": "markdown",
   "metadata": {},
   "source": [
    "Based on the collision type, we can look at what the road conditions are and see why they happened."
   ]
  },
  {
   "cell_type": "code",
   "execution_count": 590,
   "metadata": {},
   "outputs": [
    {
     "data": {
      "text/html": [
       "<div>\n",
       "<style scoped>\n",
       "    .dataframe tbody tr th:only-of-type {\n",
       "        vertical-align: middle;\n",
       "    }\n",
       "\n",
       "    .dataframe tbody tr th {\n",
       "        vertical-align: top;\n",
       "    }\n",
       "\n",
       "    .dataframe thead th {\n",
       "        text-align: right;\n",
       "    }\n",
       "</style>\n",
       "<table border=\"1\" class=\"dataframe\">\n",
       "  <thead>\n",
       "    <tr style=\"text-align: right;\">\n",
       "      <th></th>\n",
       "      <th>COLLISIONTYPE</th>\n",
       "      <th>ROADCOND</th>\n",
       "    </tr>\n",
       "  </thead>\n",
       "  <tbody>\n",
       "    <tr>\n",
       "      <th>0</th>\n",
       "      <td>Angles</td>\n",
       "      <td>[Wet, Dry, Snow/Slush, Unknown, Ice, Other, Sa...</td>\n",
       "    </tr>\n",
       "    <tr>\n",
       "      <th>1</th>\n",
       "      <td>Cycles</td>\n",
       "      <td>[Dry, Wet, Unknown, Ice, Standing Water, Snow/...</td>\n",
       "    </tr>\n",
       "    <tr>\n",
       "      <th>2</th>\n",
       "      <td>Head On</td>\n",
       "      <td>[Dry, Wet, Snow/Slush, Other, Ice, Unknown, St...</td>\n",
       "    </tr>\n",
       "    <tr>\n",
       "      <th>3</th>\n",
       "      <td>Left Turn</td>\n",
       "      <td>[Dry, Wet, Unknown, Snow/Slush, Oil, Other, Ic...</td>\n",
       "    </tr>\n",
       "    <tr>\n",
       "      <th>4</th>\n",
       "      <td>Other</td>\n",
       "      <td>[Dry, Unknown, Wet, Snow/Slush, Ice, Standing ...</td>\n",
       "    </tr>\n",
       "    <tr>\n",
       "      <th>5</th>\n",
       "      <td>Parked Car</td>\n",
       "      <td>[Dry, Wet, Unknown, nan, Snow/Slush, Ice, Othe...</td>\n",
       "    </tr>\n",
       "    <tr>\n",
       "      <th>6</th>\n",
       "      <td>Pedestrian</td>\n",
       "      <td>[Dry, Wet, Unknown, nan, Snow/Slush, Other, Ic...</td>\n",
       "    </tr>\n",
       "    <tr>\n",
       "      <th>7</th>\n",
       "      <td>Rear Ended</td>\n",
       "      <td>[Wet, Dry, Unknown, nan, Snow/Slush, Ice, Sand...</td>\n",
       "    </tr>\n",
       "    <tr>\n",
       "      <th>8</th>\n",
       "      <td>Right Turn</td>\n",
       "      <td>[Dry, Wet, Unknown, Snow/Slush, Ice, Oil, nan]</td>\n",
       "    </tr>\n",
       "    <tr>\n",
       "      <th>9</th>\n",
       "      <td>Sideswipe</td>\n",
       "      <td>[Wet, Dry, Unknown, Ice, Snow/Slush, Standing ...</td>\n",
       "    </tr>\n",
       "  </tbody>\n",
       "</table>\n",
       "</div>"
      ],
      "text/plain": [
       "  COLLISIONTYPE                                           ROADCOND\n",
       "0        Angles  [Wet, Dry, Snow/Slush, Unknown, Ice, Other, Sa...\n",
       "1        Cycles  [Dry, Wet, Unknown, Ice, Standing Water, Snow/...\n",
       "2       Head On  [Dry, Wet, Snow/Slush, Other, Ice, Unknown, St...\n",
       "3     Left Turn  [Dry, Wet, Unknown, Snow/Slush, Oil, Other, Ic...\n",
       "4         Other  [Dry, Unknown, Wet, Snow/Slush, Ice, Standing ...\n",
       "5    Parked Car  [Dry, Wet, Unknown, nan, Snow/Slush, Ice, Othe...\n",
       "6    Pedestrian  [Dry, Wet, Unknown, nan, Snow/Slush, Other, Ic...\n",
       "7    Rear Ended  [Wet, Dry, Unknown, nan, Snow/Slush, Ice, Sand...\n",
       "8    Right Turn     [Dry, Wet, Unknown, Snow/Slush, Ice, Oil, nan]\n",
       "9     Sideswipe  [Wet, Dry, Unknown, Ice, Snow/Slush, Standing ..."
      ]
     },
     "execution_count": 590,
     "metadata": {},
     "output_type": "execute_result"
    }
   ],
   "source": [
    "df.groupby('COLLISIONTYPE').ROADCOND.unique().reset_index()"
   ]
  },
  {
   "cell_type": "code",
   "execution_count": 591,
   "metadata": {},
   "outputs": [
    {
     "data": {
      "text/plain": [
       "[Text(0.5, 0, 'counts')]"
      ]
     },
     "execution_count": 591,
     "metadata": {},
     "output_type": "execute_result"
    },
    {
     "data": {
      "image/png": "[encoded data removed]",
      "text/plain": [
       "<Figure size 576x216 with 1 Axes>"
      ]
     },
     "metadata": {
      "needs_background": "light"
     },
     "output_type": "display_data"
    }
   ],
   "source": [
    "fig, ax = plt.subplots(figsize=(8,3))\n",
    "\n",
    "ax = df['ROADCOND'].value_counts().plot.barh();\n",
    "ax.set(xlabel='counts',  )\n",
    "# plt.savefig('images/roadcondition_vs_counts.png')"
   ]
  },
  {
   "cell_type": "code",
   "execution_count": 592,
   "metadata": {},
   "outputs": [
    {
     "data": {
      "text/html": [
       "<div>\n",
       "<style scoped>\n",
       "    .dataframe tbody tr th:only-of-type {\n",
       "        vertical-align: middle;\n",
       "    }\n",
       "\n",
       "    .dataframe tbody tr th {\n",
       "        vertical-align: top;\n",
       "    }\n",
       "\n",
       "    .dataframe thead th {\n",
       "        text-align: right;\n",
       "    }\n",
       "</style>\n",
       "<table border=\"1\" class=\"dataframe\">\n",
       "  <thead>\n",
       "    <tr style=\"text-align: right;\">\n",
       "      <th></th>\n",
       "      <th></th>\n",
       "      <th>PERSONCOUNT</th>\n",
       "      <th>PEDCOUNT</th>\n",
       "      <th>VEHCOUNT</th>\n",
       "    </tr>\n",
       "    <tr>\n",
       "      <th>SEVERITYDESC</th>\n",
       "      <th>COLLISIONTYPE</th>\n",
       "      <th></th>\n",
       "      <th></th>\n",
       "      <th></th>\n",
       "    </tr>\n",
       "  </thead>\n",
       "  <tbody>\n",
       "    <tr>\n",
       "      <th rowspan=\"10\" valign=\"top\">Injury Collision</th>\n",
       "      <th>Angles</th>\n",
       "      <td>2.928288</td>\n",
       "      <td>0.004110</td>\n",
       "      <td>2.105769</td>\n",
       "    </tr>\n",
       "    <tr>\n",
       "      <th>Cycles</th>\n",
       "      <td>2.130481</td>\n",
       "      <td>0.019393</td>\n",
       "      <td>0.973651</td>\n",
       "    </tr>\n",
       "    <tr>\n",
       "      <th>Head On</th>\n",
       "      <td>2.998853</td>\n",
       "      <td>0.000000</td>\n",
       "      <td>2.194954</td>\n",
       "    </tr>\n",
       "    <tr>\n",
       "      <th>Left Turn</th>\n",
       "      <td>2.865459</td>\n",
       "      <td>0.003881</td>\n",
       "      <td>2.076880</td>\n",
       "    </tr>\n",
       "    <tr>\n",
       "      <th>Other</th>\n",
       "      <td>1.996073</td>\n",
       "      <td>0.010798</td>\n",
       "      <td>1.455334</td>\n",
       "    </tr>\n",
       "    <tr>\n",
       "      <th>Parked Car</th>\n",
       "      <td>2.978963</td>\n",
       "      <td>0.024042</td>\n",
       "      <td>2.509767</td>\n",
       "    </tr>\n",
       "    <tr>\n",
       "      <th>Pedestrian</th>\n",
       "      <td>2.178235</td>\n",
       "      <td>1.038578</td>\n",
       "      <td>1.014319</td>\n",
       "    </tr>\n",
       "    <tr>\n",
       "      <th>Rear Ended</th>\n",
       "      <td>3.085202</td>\n",
       "      <td>0.001636</td>\n",
       "      <td>2.306659</td>\n",
       "    </tr>\n",
       "    <tr>\n",
       "      <th>Right Turn</th>\n",
       "      <td>2.949097</td>\n",
       "      <td>0.008210</td>\n",
       "      <td>2.067323</td>\n",
       "    </tr>\n",
       "    <tr>\n",
       "      <th>Sideswipe</th>\n",
       "      <td>3.031923</td>\n",
       "      <td>0.007183</td>\n",
       "      <td>2.203512</td>\n",
       "    </tr>\n",
       "    <tr>\n",
       "      <th rowspan=\"10\" valign=\"top\">Property Damage Only Collision</th>\n",
       "      <th>Angles</th>\n",
       "      <td>2.571971</td>\n",
       "      <td>0.000190</td>\n",
       "      <td>2.056485</td>\n",
       "    </tr>\n",
       "    <tr>\n",
       "      <th>Cycles</th>\n",
       "      <td>2.116244</td>\n",
       "      <td>0.008942</td>\n",
       "      <td>1.007452</td>\n",
       "    </tr>\n",
       "    <tr>\n",
       "      <th>Head On</th>\n",
       "      <td>2.529514</td>\n",
       "      <td>0.000000</td>\n",
       "      <td>2.075521</td>\n",
       "    </tr>\n",
       "    <tr>\n",
       "      <th>Left Turn</th>\n",
       "      <td>2.599011</td>\n",
       "      <td>0.000121</td>\n",
       "      <td>2.035576</td>\n",
       "    </tr>\n",
       "    <tr>\n",
       "      <th>Other</th>\n",
       "      <td>1.744585</td>\n",
       "      <td>0.000284</td>\n",
       "      <td>1.442840</td>\n",
       "    </tr>\n",
       "    <tr>\n",
       "      <th>Parked Car</th>\n",
       "      <td>2.190381</td>\n",
       "      <td>0.000177</td>\n",
       "      <td>2.124699</td>\n",
       "    </tr>\n",
       "    <tr>\n",
       "      <th>Pedestrian</th>\n",
       "      <td>2.159226</td>\n",
       "      <td>1.029762</td>\n",
       "      <td>1.013393</td>\n",
       "    </tr>\n",
       "    <tr>\n",
       "      <th>Rear Ended</th>\n",
       "      <td>2.675112</td>\n",
       "      <td>0.000154</td>\n",
       "      <td>2.158299</td>\n",
       "    </tr>\n",
       "    <tr>\n",
       "      <th>Right Turn</th>\n",
       "      <td>2.654879</td>\n",
       "      <td>0.000000</td>\n",
       "      <td>2.013634</td>\n",
       "    </tr>\n",
       "    <tr>\n",
       "      <th>Sideswipe</th>\n",
       "      <td>2.557412</td>\n",
       "      <td>0.000000</td>\n",
       "      <td>2.048252</td>\n",
       "    </tr>\n",
       "  </tbody>\n",
       "</table>\n",
       "</div>"
      ],
      "text/plain": [
       "                                              PERSONCOUNT  PEDCOUNT  VEHCOUNT\n",
       "SEVERITYDESC                   COLLISIONTYPE                                 \n",
       "Injury Collision               Angles            2.928288  0.004110  2.105769\n",
       "                               Cycles            2.130481  0.019393  0.973651\n",
       "                               Head On           2.998853  0.000000  2.194954\n",
       "                               Left Turn         2.865459  0.003881  2.076880\n",
       "                               Other             1.996073  0.010798  1.455334\n",
       "                               Parked Car        2.978963  0.024042  2.509767\n",
       "                               Pedestrian        2.178235  1.038578  1.014319\n",
       "                               Rear Ended        3.085202  0.001636  2.306659\n",
       "                               Right Turn        2.949097  0.008210  2.067323\n",
       "                               Sideswipe         3.031923  0.007183  2.203512\n",
       "Property Damage Only Collision Angles            2.571971  0.000190  2.056485\n",
       "                               Cycles            2.116244  0.008942  1.007452\n",
       "                               Head On           2.529514  0.000000  2.075521\n",
       "                               Left Turn         2.599011  0.000121  2.035576\n",
       "                               Other             1.744585  0.000284  1.442840\n",
       "                               Parked Car        2.190381  0.000177  2.124699\n",
       "                               Pedestrian        2.159226  1.029762  1.013393\n",
       "                               Rear Ended        2.675112  0.000154  2.158299\n",
       "                               Right Turn        2.654879  0.000000  2.013634\n",
       "                               Sideswipe         2.557412  0.000000  2.048252"
      ]
     },
     "execution_count": 592,
     "metadata": {},
     "output_type": "execute_result"
    }
   ],
   "source": [
    "df.groupby(['SEVERITYDESC', 'COLLISIONTYPE']).agg(dict(PERSONCOUNT='mean', PEDCOUNT='mean', VEHCOUNT='mean'))\n"
   ]
  },
  {
   "cell_type": "code",
   "execution_count": 593,
   "metadata": {},
   "outputs": [
    {
     "data": {
      "text/html": [
       "<div>\n",
       "<style scoped>\n",
       "    .dataframe tbody tr th:only-of-type {\n",
       "        vertical-align: middle;\n",
       "    }\n",
       "\n",
       "    .dataframe tbody tr th {\n",
       "        vertical-align: top;\n",
       "    }\n",
       "\n",
       "    .dataframe thead th {\n",
       "        text-align: right;\n",
       "    }\n",
       "</style>\n",
       "<table border=\"1\" class=\"dataframe\">\n",
       "  <thead>\n",
       "    <tr style=\"text-align: right;\">\n",
       "      <th></th>\n",
       "      <th>PERSONCOUNT</th>\n",
       "      <th>PEDCOUNT</th>\n",
       "      <th>VEHCOUNT</th>\n",
       "    </tr>\n",
       "    <tr>\n",
       "      <th>SEVERITYDESC</th>\n",
       "      <th></th>\n",
       "      <th></th>\n",
       "      <th></th>\n",
       "    </tr>\n",
       "  </thead>\n",
       "  <tbody>\n",
       "    <tr>\n",
       "      <th>Injury Collision</th>\n",
       "      <td>2.714357</td>\n",
       "      <td>0.111896</td>\n",
       "      <td>1.867928</td>\n",
       "    </tr>\n",
       "    <tr>\n",
       "      <th>Property Damage Only Collision</th>\n",
       "      <td>2.329348</td>\n",
       "      <td>0.005268</td>\n",
       "      <td>1.943312</td>\n",
       "    </tr>\n",
       "  </tbody>\n",
       "</table>\n",
       "</div>"
      ],
      "text/plain": [
       "                                PERSONCOUNT  PEDCOUNT  VEHCOUNT\n",
       "SEVERITYDESC                                                   \n",
       "Injury Collision                   2.714357  0.111896  1.867928\n",
       "Property Damage Only Collision     2.329348  0.005268  1.943312"
      ]
     },
     "execution_count": 593,
     "metadata": {},
     "output_type": "execute_result"
    }
   ],
   "source": [
    "df.groupby('SEVERITYDESC').agg(dict(PERSONCOUNT='mean', PEDCOUNT='mean', VEHCOUNT='mean'))"
   ]
  },
  {
   "cell_type": "code",
   "execution_count": 594,
   "metadata": {},
   "outputs": [
    {
     "data": {
      "text/html": [
       "<style  type=\"text/css\" >\n",
       "</style><table id=\"T_ed74be32_fae3_11ea_bb8f_88e9fe5a9c1d\" ><thead>    <tr>        <th class=\"col_heading level0 col0\" >SEVERITYCODE</th>        <th class=\"col_heading level0 col1\" >SEVERITYDESC</th>    </tr></thead><tbody>\n",
       "                <tr>\n",
       "                                <td id=\"T_ed74be32_fae3_11ea_bb8f_88e9fe5a9c1drow0_col0\" class=\"data row0 col0\" >1</td>\n",
       "                        <td id=\"T_ed74be32_fae3_11ea_bb8f_88e9fe5a9c1drow0_col1\" class=\"data row0 col1\" >Property Damage Only Collision</td>\n",
       "            </tr>\n",
       "            <tr>\n",
       "                                <td id=\"T_ed74be32_fae3_11ea_bb8f_88e9fe5a9c1drow1_col0\" class=\"data row1 col0\" >2</td>\n",
       "                        <td id=\"T_ed74be32_fae3_11ea_bb8f_88e9fe5a9c1drow1_col1\" class=\"data row1 col1\" >Injury Collision</td>\n",
       "            </tr>\n",
       "    </tbody></table>"
      ],
      "text/plain": [
       "<pandas.io.formats.style.Styler at 0x12128a730>"
      ]
     },
     "execution_count": 594,
     "metadata": {},
     "output_type": "execute_result"
    }
   ],
   "source": [
    "df[['SEVERITYCODE', 'SEVERITYDESC']].drop_duplicates().sort_values('SEVERITYCODE').style.hide_index()"
   ]
  },
  {
   "cell_type": "markdown",
   "metadata": {},
   "source": [
    "Below we can see that there is more likely to be a property damage collision than an injury collision."
   ]
  },
  {
   "cell_type": "code",
   "execution_count": 595,
   "metadata": {},
   "outputs": [
    {
     "data": {
      "image/png": "[encoded data removed]",
      "text/plain": [
       "<Figure size 576x216 with 1 Axes>"
      ]
     },
     "metadata": {
      "needs_background": "light"
     },
     "output_type": "display_data"
    }
   ],
   "source": [
    "fig, ax = plt.subplots(figsize=(8,3))\n",
    "\n",
    "ax = df['SEVERITYDESC'].value_counts().plot.barh();\n",
    "ax.set(xlabel='counts', )\n",
    "plt.tight_layout()\n",
    "plt.savefig('images/severitydescription_vs_counts.png')"
   ]
  },
  {
   "cell_type": "code",
   "execution_count": 596,
   "metadata": {},
   "outputs": [
    {
     "data": {
      "text/plain": [
       "Property Damage Only Collision    136485\n",
       "Injury Collision                   58188\n",
       "Name: SEVERITYDESC, dtype: int64"
      ]
     },
     "execution_count": 596,
     "metadata": {},
     "output_type": "execute_result"
    }
   ],
   "source": [
    "df['SEVERITYDESC'].value_counts()"
   ]
  },
  {
   "cell_type": "code",
   "execution_count": 597,
   "metadata": {},
   "outputs": [
    {
     "data": {
      "image/png": "[encoded data removed]",
      "text/plain": [
       "<Figure size 576x216 with 1 Axes>"
      ]
     },
     "metadata": {
      "needs_background": "light"
     },
     "output_type": "display_data"
    }
   ],
   "source": [
    "fig, ax = plt.subplots(figsize=(8,3))\n",
    "\n",
    "ax = df['WEATHER'].value_counts().plot.barh();\n",
    "ax.set(xlabel='counts', )\n",
    "plt.savefig('images/weather_vs_counts.png')"
   ]
  },
  {
   "cell_type": "code",
   "execution_count": 598,
   "metadata": {},
   "outputs": [
    {
     "data": {
      "text/plain": [
       "[Text(0, 0.5, 'number of vehicles'), Text(0.5, 0, 'counts')]"
      ]
     },
     "execution_count": 598,
     "metadata": {},
     "output_type": "execute_result"
    },
    {
     "data": {
      "image/png": "[encoded data removed]",
      "text/plain": [
       "<Figure size 576x216 with 1 Axes>"
      ]
     },
     "metadata": {
      "needs_background": "light"
     },
     "output_type": "display_data"
    }
   ],
   "source": [
    "fig, ax = plt.subplots(figsize=(8,3))\n",
    "\n",
    "ax = df['VEHCOUNT'].value_counts().plot.barh();\n",
    "ax.set(xlabel='counts', ylabel='number of vehicles' )\n",
    "# plt.savefig('images/numberofvehicles_vs_counts.png')"
   ]
  },
  {
   "cell_type": "code",
   "execution_count": 600,
   "metadata": {},
   "outputs": [
    {
     "data": {
      "image/png": "[encoded data removed]",
      "text/plain": [
       "<Figure size 576x216 with 1 Axes>"
      ]
     },
     "metadata": {
      "needs_background": "light"
     },
     "output_type": "display_data"
    }
   ],
   "source": [
    "fig, ax = plt.subplots(figsize=(8,3))\n",
    "\n",
    "ax = df['LIGHTCOND'].value_counts().plot.barh();\n",
    "ax.set(xlabel='counts',  )\n",
    "plt.tight_layout()\n",
    "# plt.savefig('images/lightcondition_vs_counts.png')"
   ]
  },
  {
   "cell_type": "code",
   "execution_count": 601,
   "metadata": {},
   "outputs": [
    {
     "data": {
      "text/plain": [
       "[Text(0.5, 0, 'counts')]"
      ]
     },
     "execution_count": 601,
     "metadata": {},
     "output_type": "execute_result"
    },
    {
     "data": {
      "image/png": "[encoded data removed]",
      "text/plain": [
       "<Figure size 576x216 with 1 Axes>"
      ]
     },
     "metadata": {
      "needs_background": "light"
     },
     "output_type": "display_data"
    }
   ],
   "source": [
    "fig, ax = plt.subplots(figsize=(8,3))\n",
    "\n",
    "ax = df['ROADCOND'].value_counts().plot.barh();\n",
    "ax.set(xlabel='counts',  )\n",
    "# plt.savefig('images/roadconditions_vs_counts.png')"
   ]
  },
  {
   "cell_type": "markdown",
   "metadata": {},
   "source": [
    "<div id='methodology'/>\n",
    "\n",
    "## Methodology\n",
    "\n",
    "In this project we will focus our efforts on detecting accident severity by two criterias:\n",
    "\n",
    "1) Injury Collision\n",
    "\n",
    "2) Property Damage Only\n",
    "\n",
    "Now that we've explored the data, we know that there are several features that will be useful in our model. These features are:\n",
    "\n",
    "* road conditions\n",
    "* light conditions\n",
    "* vehicle count \n",
    "* weather\n",
    "* address type\n",
    "* collision type\n",
    "* junction type\n",
    "\n",
    "\n",
    "Our first step is to determine what type of model we want to use. Since we have a binary selection to determine accident severity, we will want to stick with a classifier. So we'll go through using a few models (logistic regression, SCM, and decision tree) to see what gives us the best model.\n",
    "\n"
   ]
  },
  {
   "cell_type": "markdown",
   "metadata": {},
   "source": [
    "<div id='analysis'/>\n",
    "\n",
    "## Analysis"
   ]
  },
  {
   "cell_type": "markdown",
   "metadata": {},
   "source": [
    "First we'll start with a fresh dataframe that has all the features that we want."
   ]
  },
  {
   "cell_type": "code",
   "execution_count": 603,
   "metadata": {},
   "outputs": [
    {
     "data": {
      "text/html": [
       "<div>\n",
       "<style scoped>\n",
       "    .dataframe tbody tr th:only-of-type {\n",
       "        vertical-align: middle;\n",
       "    }\n",
       "\n",
       "    .dataframe tbody tr th {\n",
       "        vertical-align: top;\n",
       "    }\n",
       "\n",
       "    .dataframe thead th {\n",
       "        text-align: right;\n",
       "    }\n",
       "</style>\n",
       "<table border=\"1\" class=\"dataframe\">\n",
       "  <thead>\n",
       "    <tr style=\"text-align: right;\">\n",
       "      <th></th>\n",
       "      <th>SEVERITYCODE</th>\n",
       "      <th>ROADCOND</th>\n",
       "      <th>LIGHTCOND</th>\n",
       "      <th>VEHCOUNT</th>\n",
       "      <th>WEATHER</th>\n",
       "      <th>ADDRTYPE</th>\n",
       "      <th>COLLISIONTYPE</th>\n",
       "      <th>JUNCTIONTYPE</th>\n",
       "    </tr>\n",
       "  </thead>\n",
       "  <tbody>\n",
       "    <tr>\n",
       "      <th>0</th>\n",
       "      <td>2</td>\n",
       "      <td>Wet</td>\n",
       "      <td>Daylight</td>\n",
       "      <td>2</td>\n",
       "      <td>Overcast</td>\n",
       "      <td>Intersection</td>\n",
       "      <td>Angles</td>\n",
       "      <td>At Intersection (intersection related)</td>\n",
       "    </tr>\n",
       "    <tr>\n",
       "      <th>1</th>\n",
       "      <td>1</td>\n",
       "      <td>Wet</td>\n",
       "      <td>Dark - Street Lights On</td>\n",
       "      <td>2</td>\n",
       "      <td>Raining</td>\n",
       "      <td>Block</td>\n",
       "      <td>Sideswipe</td>\n",
       "      <td>Mid-Block (not related to intersection)</td>\n",
       "    </tr>\n",
       "    <tr>\n",
       "      <th>2</th>\n",
       "      <td>1</td>\n",
       "      <td>Dry</td>\n",
       "      <td>Daylight</td>\n",
       "      <td>3</td>\n",
       "      <td>Overcast</td>\n",
       "      <td>Block</td>\n",
       "      <td>Parked Car</td>\n",
       "      <td>Mid-Block (not related to intersection)</td>\n",
       "    </tr>\n",
       "    <tr>\n",
       "      <th>3</th>\n",
       "      <td>1</td>\n",
       "      <td>Dry</td>\n",
       "      <td>Daylight</td>\n",
       "      <td>3</td>\n",
       "      <td>Clear</td>\n",
       "      <td>Block</td>\n",
       "      <td>Other</td>\n",
       "      <td>Mid-Block (not related to intersection)</td>\n",
       "    </tr>\n",
       "    <tr>\n",
       "      <th>4</th>\n",
       "      <td>2</td>\n",
       "      <td>Wet</td>\n",
       "      <td>Daylight</td>\n",
       "      <td>2</td>\n",
       "      <td>Raining</td>\n",
       "      <td>Intersection</td>\n",
       "      <td>Angles</td>\n",
       "      <td>At Intersection (intersection related)</td>\n",
       "    </tr>\n",
       "    <tr>\n",
       "      <th>...</th>\n",
       "      <td>...</td>\n",
       "      <td>...</td>\n",
       "      <td>...</td>\n",
       "      <td>...</td>\n",
       "      <td>...</td>\n",
       "      <td>...</td>\n",
       "      <td>...</td>\n",
       "      <td>...</td>\n",
       "    </tr>\n",
       "    <tr>\n",
       "      <th>194668</th>\n",
       "      <td>2</td>\n",
       "      <td>Dry</td>\n",
       "      <td>Daylight</td>\n",
       "      <td>2</td>\n",
       "      <td>Clear</td>\n",
       "      <td>Block</td>\n",
       "      <td>Head On</td>\n",
       "      <td>Mid-Block (not related to intersection)</td>\n",
       "    </tr>\n",
       "    <tr>\n",
       "      <th>194669</th>\n",
       "      <td>1</td>\n",
       "      <td>Wet</td>\n",
       "      <td>Daylight</td>\n",
       "      <td>2</td>\n",
       "      <td>Raining</td>\n",
       "      <td>Block</td>\n",
       "      <td>Rear Ended</td>\n",
       "      <td>Mid-Block (not related to intersection)</td>\n",
       "    </tr>\n",
       "    <tr>\n",
       "      <th>194670</th>\n",
       "      <td>2</td>\n",
       "      <td>Dry</td>\n",
       "      <td>Daylight</td>\n",
       "      <td>2</td>\n",
       "      <td>Clear</td>\n",
       "      <td>Intersection</td>\n",
       "      <td>Left Turn</td>\n",
       "      <td>At Intersection (intersection related)</td>\n",
       "    </tr>\n",
       "    <tr>\n",
       "      <th>194671</th>\n",
       "      <td>2</td>\n",
       "      <td>Dry</td>\n",
       "      <td>Dusk</td>\n",
       "      <td>1</td>\n",
       "      <td>Clear</td>\n",
       "      <td>Intersection</td>\n",
       "      <td>Cycles</td>\n",
       "      <td>At Intersection (intersection related)</td>\n",
       "    </tr>\n",
       "    <tr>\n",
       "      <th>194672</th>\n",
       "      <td>1</td>\n",
       "      <td>Wet</td>\n",
       "      <td>Daylight</td>\n",
       "      <td>2</td>\n",
       "      <td>Clear</td>\n",
       "      <td>Block</td>\n",
       "      <td>Rear Ended</td>\n",
       "      <td>Mid-Block (not related to intersection)</td>\n",
       "    </tr>\n",
       "  </tbody>\n",
       "</table>\n",
       "<p>182895 rows × 8 columns</p>\n",
       "</div>"
      ],
      "text/plain": [
       "        SEVERITYCODE ROADCOND                LIGHTCOND  VEHCOUNT   WEATHER  \\\n",
       "0                  2      Wet                 Daylight         2  Overcast   \n",
       "1                  1      Wet  Dark - Street Lights On         2   Raining   \n",
       "2                  1      Dry                 Daylight         3  Overcast   \n",
       "3                  1      Dry                 Daylight         3     Clear   \n",
       "4                  2      Wet                 Daylight         2   Raining   \n",
       "...              ...      ...                      ...       ...       ...   \n",
       "194668             2      Dry                 Daylight         2     Clear   \n",
       "194669             1      Wet                 Daylight         2   Raining   \n",
       "194670             2      Dry                 Daylight         2     Clear   \n",
       "194671             2      Dry                     Dusk         1     Clear   \n",
       "194672             1      Wet                 Daylight         2     Clear   \n",
       "\n",
       "            ADDRTYPE COLLISIONTYPE                             JUNCTIONTYPE  \n",
       "0       Intersection        Angles   At Intersection (intersection related)  \n",
       "1              Block     Sideswipe  Mid-Block (not related to intersection)  \n",
       "2              Block    Parked Car  Mid-Block (not related to intersection)  \n",
       "3              Block         Other  Mid-Block (not related to intersection)  \n",
       "4       Intersection        Angles   At Intersection (intersection related)  \n",
       "...              ...           ...                                      ...  \n",
       "194668         Block       Head On  Mid-Block (not related to intersection)  \n",
       "194669         Block    Rear Ended  Mid-Block (not related to intersection)  \n",
       "194670  Intersection     Left Turn   At Intersection (intersection related)  \n",
       "194671  Intersection        Cycles   At Intersection (intersection related)  \n",
       "194672         Block    Rear Ended  Mid-Block (not related to intersection)  \n",
       "\n",
       "[182895 rows x 8 columns]"
      ]
     },
     "execution_count": 603,
     "metadata": {},
     "output_type": "execute_result"
    }
   ],
   "source": [
    "df = df.loc[:,['SEVERITYCODE', 'ROADCOND', 'LIGHTCOND', 'VEHCOUNT', 'WEATHER', \n",
    "          'ADDRTYPE', 'COLLISIONTYPE', 'JUNCTIONTYPE']].dropna()\n",
    "df"
   ]
  },
  {
   "cell_type": "markdown",
   "metadata": {},
   "source": [
    "We can see that a lot of this data is actually not numerical, so we must convert some of these quantities over to numerical values.\n",
    "\n",
    "Let's take a look at the road conditions column ('ROADCOND') to see what we have. "
   ]
  },
  {
   "cell_type": "code",
   "execution_count": 54,
   "metadata": {},
   "outputs": [
    {
     "data": {
      "text/plain": [
       "array(['Wet', 'Dry', 'nan', 'Unknown', 'Snow/Slush', 'Ice', 'Other',\n",
       "       'Sand/Mud/Dirt', 'Standing Water', 'Oil'], dtype='<U14')"
      ]
     },
     "execution_count": 54,
     "metadata": {},
     "output_type": "execute_result"
    }
   ],
   "source": [
    "df['ROADCOND'].unique().astype('str')"
   ]
  },
  {
   "cell_type": "markdown",
   "metadata": {},
   "source": [
    "There are nans in this columns, so we can count to see how many there are and the cell below states that there are 5012 nans in that columns."
   ]
  },
  {
   "cell_type": "code",
   "execution_count": 605,
   "metadata": {},
   "outputs": [
    {
     "data": {
      "text/plain": [
       "(0, 0, 0, 0, 0)"
      ]
     },
     "execution_count": 605,
     "metadata": {},
     "output_type": "execute_result"
    }
   ],
   "source": [
    "df['LIGHTCOND'].isna().sum(), df['WEATHER'].isna().sum(), df['ADDRTYPE'].isna().sum(), \\\n",
    "df['JUNCTIONTYPE'].isna().sum(), df['COLLISIONTYPE'].isna().sum()"
   ]
  },
  {
   "cell_type": "markdown",
   "metadata": {},
   "source": [
    "If you haven't already noticed, there's a lot of catagorical data. So we will need to convert that over to a numerical encoding for future use. Below is all of our categorical data."
   ]
  },
  {
   "cell_type": "code",
   "execution_count": 606,
   "metadata": {},
   "outputs": [
    {
     "data": {
      "text/html": [
       "<div>\n",
       "<style scoped>\n",
       "    .dataframe tbody tr th:only-of-type {\n",
       "        vertical-align: middle;\n",
       "    }\n",
       "\n",
       "    .dataframe tbody tr th {\n",
       "        vertical-align: top;\n",
       "    }\n",
       "\n",
       "    .dataframe thead th {\n",
       "        text-align: right;\n",
       "    }\n",
       "</style>\n",
       "<table border=\"1\" class=\"dataframe\">\n",
       "  <thead>\n",
       "    <tr style=\"text-align: right;\">\n",
       "      <th></th>\n",
       "      <th>ROADCOND</th>\n",
       "      <th>LIGHTCOND</th>\n",
       "      <th>WEATHER</th>\n",
       "    </tr>\n",
       "  </thead>\n",
       "  <tbody>\n",
       "    <tr>\n",
       "      <th>0</th>\n",
       "      <td>Wet</td>\n",
       "      <td>Daylight</td>\n",
       "      <td>Overcast</td>\n",
       "    </tr>\n",
       "    <tr>\n",
       "      <th>1</th>\n",
       "      <td>Wet</td>\n",
       "      <td>Dark - Street Lights On</td>\n",
       "      <td>Raining</td>\n",
       "    </tr>\n",
       "    <tr>\n",
       "      <th>2</th>\n",
       "      <td>Dry</td>\n",
       "      <td>Daylight</td>\n",
       "      <td>Overcast</td>\n",
       "    </tr>\n",
       "    <tr>\n",
       "      <th>3</th>\n",
       "      <td>Dry</td>\n",
       "      <td>Daylight</td>\n",
       "      <td>Clear</td>\n",
       "    </tr>\n",
       "    <tr>\n",
       "      <th>4</th>\n",
       "      <td>Wet</td>\n",
       "      <td>Daylight</td>\n",
       "      <td>Raining</td>\n",
       "    </tr>\n",
       "    <tr>\n",
       "      <th>...</th>\n",
       "      <td>...</td>\n",
       "      <td>...</td>\n",
       "      <td>...</td>\n",
       "    </tr>\n",
       "    <tr>\n",
       "      <th>194668</th>\n",
       "      <td>Dry</td>\n",
       "      <td>Daylight</td>\n",
       "      <td>Clear</td>\n",
       "    </tr>\n",
       "    <tr>\n",
       "      <th>194669</th>\n",
       "      <td>Wet</td>\n",
       "      <td>Daylight</td>\n",
       "      <td>Raining</td>\n",
       "    </tr>\n",
       "    <tr>\n",
       "      <th>194670</th>\n",
       "      <td>Dry</td>\n",
       "      <td>Daylight</td>\n",
       "      <td>Clear</td>\n",
       "    </tr>\n",
       "    <tr>\n",
       "      <th>194671</th>\n",
       "      <td>Dry</td>\n",
       "      <td>Dusk</td>\n",
       "      <td>Clear</td>\n",
       "    </tr>\n",
       "    <tr>\n",
       "      <th>194672</th>\n",
       "      <td>Wet</td>\n",
       "      <td>Daylight</td>\n",
       "      <td>Clear</td>\n",
       "    </tr>\n",
       "  </tbody>\n",
       "</table>\n",
       "<p>182895 rows × 3 columns</p>\n",
       "</div>"
      ],
      "text/plain": [
       "       ROADCOND                LIGHTCOND   WEATHER\n",
       "0           Wet                 Daylight  Overcast\n",
       "1           Wet  Dark - Street Lights On   Raining\n",
       "2           Dry                 Daylight  Overcast\n",
       "3           Dry                 Daylight     Clear\n",
       "4           Wet                 Daylight   Raining\n",
       "...         ...                      ...       ...\n",
       "194668      Dry                 Daylight     Clear\n",
       "194669      Wet                 Daylight   Raining\n",
       "194670      Dry                 Daylight     Clear\n",
       "194671      Dry                     Dusk     Clear\n",
       "194672      Wet                 Daylight     Clear\n",
       "\n",
       "[182895 rows x 3 columns]"
      ]
     },
     "execution_count": 606,
     "metadata": {},
     "output_type": "execute_result"
    }
   ],
   "source": [
    "df[['ROADCOND', 'LIGHTCOND', 'WEATHER']]"
   ]
  },
  {
   "cell_type": "markdown",
   "metadata": {},
   "source": [
    "First we transform the data to a numerical encoding and scale it."
   ]
  },
  {
   "cell_type": "code",
   "execution_count": 680,
   "metadata": {},
   "outputs": [
    {
     "name": "stdout",
     "output_type": "stream",
     "text": [
      "Modeling based on:\n",
      "* ROADCOND: ['Wet' 'Dry' 'Unknown' 'Snow/Slush' 'Ice' 'Other' 'Sand/Mud/Dirt'\n",
      " 'Standing Water' 'Oil']\n",
      "* LIGHTCOND: ['Daylight' 'Dark - Street Lights On' 'Dark - No Street Lights' 'Unknown'\n",
      " 'Dusk' 'Dawn' 'Dark - Street Lights Off' 'Other'\n",
      " 'Dark - Unknown Lighting']\n",
      "* WEATHER: ['Overcast' 'Raining' 'Clear' 'Unknown' 'Other' 'Snowing' 'Fog/Smog/Smoke'\n",
      " 'Sleet/Hail/Freezing Rain' 'Blowing Sand/Dirt' 'Severe Crosswind'\n",
      " 'Partly Cloudy']\n",
      "* ADDRTYPE: ['Intersection' 'Block' 'Alley']\n",
      "* COLLISIONTYPE: ['Angles' 'Sideswipe' 'Parked Car' 'Other' 'Cycles' 'Rear Ended' 'Head On'\n",
      " 'Left Turn' 'Pedestrian' 'Right Turn']\n",
      "* JUNCTIONTYPE: ['At Intersection (intersection related)'\n",
      " 'Mid-Block (not related to intersection)' 'Driveway Junction'\n",
      " 'Mid-Block (but intersection related)'\n",
      " 'At Intersection (but not related to intersection)' 'Ramp Junction'\n",
      " 'Unknown']\n",
      "* VEHCOUNT\n"
     ]
    }
   ],
   "source": [
    "categorical_columns = ['ROADCOND', 'LIGHTCOND', 'WEATHER', 'ADDRTYPE', 'COLLISIONTYPE', 'JUNCTIONTYPE']\n",
    "numerical_columns = ['VEHCOUNT']\n",
    "all_columns = categorical_columns + numerical_columns\n",
    "print('Modeling based on:')\n",
    "for c in categorical_columns:\n",
    "    print('* {}: {}'.format(c, df[c].unique()))\n",
    "for c in numerical_columns:\n",
    "    print('* {}'.format(c))\n",
    "#print(', '.join(categorical_columns + numerical_columns))\n",
    "column_trans = make_column_transformer(\n",
    "    (OneHotEncoder(handle_unknown='ignore'), categorical_columns), \n",
    "    (RobustScaler(), numerical_columns),\n",
    ")\n",
    "\n",
    "X = column_trans.fit_transform(df[all_columns])"
   ]
  },
  {
   "cell_type": "code",
   "execution_count": 681,
   "metadata": {},
   "outputs": [
    {
     "data": {
      "text/plain": [
       "array([[ 0.,  0.,  0., ...,  0.,  0.,  0.],\n",
       "       [ 0.,  0.,  0., ...,  0.,  0.,  0.],\n",
       "       [ 1.,  0.,  0., ...,  0.,  0.,  1.],\n",
       "       ...,\n",
       "       [ 1.,  0.,  0., ...,  0.,  0.,  0.],\n",
       "       [ 1.,  0.,  0., ...,  0.,  0., -1.],\n",
       "       [ 0.,  0.,  0., ...,  0.,  0.,  0.]])"
      ]
     },
     "execution_count": 681,
     "metadata": {},
     "output_type": "execute_result"
    }
   ],
   "source": [
    "X.toarray()"
   ]
  },
  {
   "cell_type": "code",
   "execution_count": 682,
   "metadata": {},
   "outputs": [
    {
     "data": {
      "text/plain": [
       "(182895, 50)"
      ]
     },
     "execution_count": 682,
     "metadata": {},
     "output_type": "execute_result"
    }
   ],
   "source": [
    "X.shape"
   ]
  },
  {
   "cell_type": "code",
   "execution_count": 683,
   "metadata": {},
   "outputs": [
    {
     "data": {
      "text/plain": [
       "array([2, 1, 1, 1, 2])"
      ]
     },
     "execution_count": 683,
     "metadata": {},
     "output_type": "execute_result"
    }
   ],
   "source": [
    "y = np.asarray(df['SEVERITYCODE'])\n",
    "y[:5]"
   ]
  },
  {
   "cell_type": "markdown",
   "metadata": {},
   "source": [
    "Next we perform the test-train split"
   ]
  },
  {
   "cell_type": "code",
   "execution_count": 631,
   "metadata": {},
   "outputs": [
    {
     "name": "stdout",
     "output_type": "stream",
     "text": [
      "Train set: (146316, 50) (146316,)\n",
      "Test set: (36579, 50) (36579,)\n"
     ]
    }
   ],
   "source": [
    "X_train, X_test, y_train, y_test = train_test_split( X, y, test_size=0.2, random_state=0)\n",
    "print ('Train set:', X_train.shape,  y_train.shape)\n",
    "print ('Test set:', X_test.shape,  y_test.shape)"
   ]
  },
  {
   "cell_type": "markdown",
   "metadata": {},
   "source": [
    "Now we will go through the different models. We'll use the training set to perform cross-validation on all of the different models and then we will select the best model from that. "
   ]
  },
  {
   "cell_type": "markdown",
   "metadata": {},
   "source": [
    "Roughly in order of priority:\n",
    "* wrangle model objects and/or yhat arrays in dicts like {'Logistic Regression: [array], 'Random Forest': [array]} so you can run metrics and/or plots (and/or training!) using loops\n",
    "* ROC (receiver operator characteristic) curve (and ROC AUC (area under curve)) gives a much richer model comparison\n",
    "* feature_importances_ for tree methods, coefs_ for log reg (but you might need to figure out how to get feature names out of the ColumnTransformer). the array can be handy, but everyone loves a plt.barh\n",
    "* maybe fit the ColumnTransformer and model together using sklearn.pipeline\n",
    "* maybe switch from train/test to cross validation\n",
    "* or maybe enhance the train/test split by using stratified sampling with the target variable (google \"sklearn train test stratified\")"
   ]
  },
  {
   "cell_type": "code",
   "execution_count": 632,
   "metadata": {},
   "outputs": [],
   "source": [
    "models = dict([('lr', LogisticRegression(C=0.01, solver='liblinear')), \n",
    "               ('dt', DecisionTreeClassifier(criterion=\"entropy\", max_depth = 10)),\n",
    "               ('rf', ensemble.RandomForestClassifier(n_estimators=100, max_depth=10)),\n",
    "              ])"
   ]
  },
  {
   "cell_type": "code",
   "execution_count": 633,
   "metadata": {},
   "outputs": [
    {
     "name": "stdout",
     "output_type": "stream",
     "text": [
      "start model = lr\n",
      "start model = dt\n",
      "start model = rf\n"
     ]
    }
   ],
   "source": [
    "for name, model in models.items():\n",
    "    print('start model = {}'.format(name))\n",
    "    model.fit(X_train, y_train) "
   ]
  },
  {
   "cell_type": "code",
   "execution_count": 713,
   "metadata": {},
   "outputs": [
    {
     "name": "stdout",
     "output_type": "stream",
     "text": [
      "classification report for lr\n",
      "LogisticRegression(C=0.01, solver='liblinear')\n",
      "              precision    recall  f1-score   support\n",
      "\n",
      "           1       0.74      0.97      0.84     25317\n",
      "           2       0.79      0.24      0.37     11262\n",
      "\n",
      "    accuracy                           0.75     36579\n",
      "   macro avg       0.76      0.61      0.60     36579\n",
      "weighted avg       0.76      0.75      0.69     36579\n",
      "\n",
      "\n",
      "\n",
      "\n",
      "classification report for dt\n",
      "DecisionTreeClassifier(criterion='entropy', max_depth=10)\n",
      "              precision    recall  f1-score   support\n",
      "\n",
      "           1       0.75      0.96      0.84     25317\n",
      "           2       0.75      0.28      0.40     11262\n",
      "\n",
      "    accuracy                           0.75     36579\n",
      "   macro avg       0.75      0.62      0.62     36579\n",
      "weighted avg       0.75      0.75      0.71     36579\n",
      "\n",
      "\n",
      "\n",
      "\n",
      "classification report for rf\n",
      "RandomForestClassifier(max_depth=10)\n",
      "              precision    recall  f1-score   support\n",
      "\n",
      "           1       0.74      0.98      0.84     25317\n",
      "           2       0.81      0.23      0.36     11262\n",
      "\n",
      "    accuracy                           0.75     36579\n",
      "   macro avg       0.78      0.60      0.60     36579\n",
      "weighted avg       0.76      0.75      0.69     36579\n",
      "\n",
      "\n",
      "\n",
      "\n"
     ]
    }
   ],
   "source": [
    "yhat_dict = dict()\n",
    "yproba_dict = dict()\n",
    "for name, model in models.items():\n",
    "    yhat = model.predict(X_test)\n",
    "    yhat_dict[name] = yhat\n",
    "    yproba_dict[name] = model.predict_proba(X_test)[:,1]\n",
    "    print('classification report for {}'.format(name))\n",
    "    print(model)\n",
    "    print(classification_report(y_test, yhat))\n",
    "    print()\n",
    "    print()\n",
    "    print()"
   ]
  },
  {
   "cell_type": "markdown",
   "metadata": {},
   "source": [
    "Here we can see that there is some overlab in no injury and injury. So we need to change some of our features to make our model better."
   ]
  },
  {
   "cell_type": "code",
   "execution_count": 635,
   "metadata": {},
   "outputs": [
    {
     "data": {
      "image/png": "[encoded data removed]",
      "text/plain": [
       "<Figure size 720x216 with 3 Axes>"
      ]
     },
     "metadata": {
      "needs_background": "light"
     },
     "output_type": "display_data"
    }
   ],
   "source": [
    "fig, axs = plt.subplots(1,3, figsize=(10, 3))\n",
    "for ax, name in zip(axs, yproba_dict):\n",
    "    mask = y_test == 2\n",
    "    ax.hist(yproba_dict[name][~mask], alpha=.33, label='no injury');\n",
    "    ax.hist(yproba_dict[name][mask], alpha=.33, label='injury')\n",
    "    ax.set(xlabel='$\\hat{y}$ probability', ylabel='counts', title=name)\n",
    "    \n",
    "    ax.legend()\n",
    "plt.tight_layout()\n",
    "# plt.savefig('images/counts_vs_yhat_probability.jpeg')"
   ]
  },
  {
   "cell_type": "markdown",
   "metadata": {},
   "source": [
    "Here we plot an ROC curve to see which models (logistic regression, decision tree, or random forest) does better. It looks like they are all comparable. "
   ]
  },
  {
   "cell_type": "code",
   "execution_count": 710,
   "metadata": {},
   "outputs": [
    {
     "data": {
      "image/png": "[encoded data removed]",
      "text/plain": [
       "<Figure size 576x576 with 1 Axes>"
      ]
     },
     "metadata": {
      "needs_background": "light"
     },
     "output_type": "display_data"
    }
   ],
   "source": [
    "fmt = '[AUC = {:.4f}]  $|$  {}'\n",
    "\n",
    "fig, ax = plt.subplots(figsize=(8,8))\n",
    "for name in yproba_dict.keys():\n",
    "    fp, tp, thresh = metrics.roc_curve(y_test==2, yproba_dict[name])\n",
    "    label = fmt.format(metrics.auc(fp, tp), name)\n",
    "    ax.plot(fp, tp, label=label, alpha=.3)\n",
    "    \n",
    "lim = [0, 1]\n",
    "ax.plot(lim, lim, 'k--', lw=1, zorder=-10)\n",
    "ax.legend()\n",
    "ax.set(xlim=lim, ylim=lim, aspect='equal', xlabel='false positive rate', ylabel='true positive rate', title='ROC (receiver operator characteristic)');\n",
    "plt.savefig('images/ROC.jpeg')"
   ]
  },
  {
   "cell_type": "markdown",
   "metadata": {},
   "source": [
    "Now we want to see which features are the most important for our model to make our predictions better."
   ]
  },
  {
   "cell_type": "code",
   "execution_count": 637,
   "metadata": {},
   "outputs": [],
   "source": [
    "def get_column_names_from_ColumnTransformer(column_transformer):    \n",
    "    col_name = []\n",
    "    for transformer_in_columns in column_transformer.transformers_[:-1]:\n",
    "        raw_col_name = transformer_in_columns[2]\n",
    "        if isinstance(transformer_in_columns[1],Pipeline): \n",
    "            transformer = transformer_in_columns[1].steps[-1][1]\n",
    "        else:\n",
    "            transformer = transformer_in_columns[1]\n",
    "        try:\n",
    "            names = transformer.get_feature_names()\n",
    "        except AttributeError: \n",
    "            names = raw_col_name\n",
    "        if isinstance(names,np.ndarray): # eg.\n",
    "            col_name += names.tolist()\n",
    "        elif isinstance(names,list):\n",
    "            col_name += names    \n",
    "        elif isinstance(names,str):\n",
    "            col_name.append(names)\n",
    "    return col_name"
   ]
  },
  {
   "cell_type": "code",
   "execution_count": 646,
   "metadata": {},
   "outputs": [
    {
     "data": {
      "text/plain": [
       "(1, 50)"
      ]
     },
     "execution_count": 646,
     "metadata": {},
     "output_type": "execute_result"
    }
   ],
   "source": [
    "models['lr'].coef_"
   ]
  },
  {
   "cell_type": "code",
   "execution_count": 652,
   "metadata": {},
   "outputs": [
    {
     "data": {
      "image/png": "[encoded data removed]",
      "text/plain": [
       "<Figure size 720x432 with 1 Axes>"
      ]
     },
     "metadata": {
      "needs_background": "light"
     },
     "output_type": "display_data"
    }
   ],
   "source": [
    "feature_names = get_column_names_from_ColumnTransformer(column_trans)\n",
    "prefix = {f'x{i}' : v for i,v in enumerate(categorical_columns)}\n",
    "renamed_features = [prefix[v[:2]] + v[2:] if v[0]=='x' else v for v in feature_names]\n",
    "\n",
    "imp_names = ['lr']\n",
    "fig, ax = plt.subplots(figsize=(10, 6))\n",
    "importance = models['lr'].coef_[0]\n",
    "d = pd.DataFrame(dict(name=renamed_features, importance=importance, abs_importance=np.abs(importance)))\n",
    "d = d.sort_values('abs_importance', ascending=True).tail(20)\n",
    "ax.barh(d.name, d.importance)\n",
    "ax.axvline(0, color='k', ls='--', zorder=-10)\n",
    "plt.tight_layout()\n",
    "plt.savefig('images/lr_feature_importance.jpeg')"
   ]
  },
  {
   "cell_type": "code",
   "execution_count": 659,
   "metadata": {},
   "outputs": [
    {
     "data": {
      "image/png": "[encoded data removed]",
      "text/plain": [
       "<Figure size 720x432 with 1 Axes>"
      ]
     },
     "metadata": {
      "needs_background": "light"
     },
     "output_type": "display_data"
    },
    {
     "data": {
      "image/png": "[encoded data removed]",
      "text/plain": [
       "<Figure size 720x432 with 1 Axes>"
      ]
     },
     "metadata": {
      "needs_background": "light"
     },
     "output_type": "display_data"
    }
   ],
   "source": [
    "imp_names = ['dt','rf']\n",
    "for name in imp_names:\n",
    "    fig, ax = plt.subplots(figsize=(10, 6))\n",
    "    importance = models[name].feature_importances_\n",
    "    d = pd.DataFrame(dict(name=renamed_features, importance=importance))\n",
    "    d = d.sort_values('importance', ascending=True).tail(20)\n",
    "    ax.barh(d.name, d.importance)\n",
    "    ax.set(xlim=(0, .49))\n",
    "    ax.grid()\n",
    "    plt.tight_layout()\n",
    "# plt.savefig('images/feature_importance.jpeg')"
   ]
  },
  {
   "cell_type": "markdown",
   "metadata": {},
   "source": [
    "From this plot it looks like the features that are the most important are the collision type and vehicle count"
   ]
  },
  {
   "cell_type": "code",
   "execution_count": 639,
   "metadata": {},
   "outputs": [
    {
     "name": "stderr",
     "output_type": "stream",
     "text": [
      "dot: graph is too large for cairo-renderer bitmaps. Scaling by 0.962716 to fit\n"
     ]
    },
    {
     "data": {
      "text/plain": [
       "'images/dtree_render.png'"
      ]
     },
     "execution_count": 639,
     "metadata": {},
     "output_type": "execute_result"
    }
   ],
   "source": [
    "graph = Source( tree.export_graphviz(models['dt'], out_file=None, feature_names=renamed_features, class_names=['No Injury', 'Injury'], filled=True,  special_characters=True,rotate=False))\n",
    "graph.format = 'png'\n",
    "graph.render('images/dtree_render',view=True)"
   ]
  },
  {
   "cell_type": "markdown",
   "metadata": {},
   "source": [
    "<div id='results'/>\n",
    "\n",
    "## Results and Discussion"
   ]
  },
  {
   "cell_type": "markdown",
   "metadata": {},
   "source": [
    "Modeling based on:\n",
    "* ROADCOND: ['Wet' 'Dry' 'Unknown' 'Snow/Slush' 'Ice' 'Other' 'Sand/Mud/Dirt'\n",
    " 'Standing Water' 'Oil']\n",
    "* LIGHTCOND: ['Daylight' 'Dark - Street Lights On' 'Dark - No Street Lights' 'Unknown'\n",
    " 'Dusk' 'Dawn' 'Dark - Street Lights Off' 'Other'\n",
    " 'Dark - Unknown Lighting']\n",
    "* WEATHER: ['Overcast' 'Raining' 'Clear' 'Unknown' 'Other' 'Snowing' 'Fog/Smog/Smoke'\n",
    " 'Sleet/Hail/Freezing Rain' 'Blowing Sand/Dirt' 'Severe Crosswind'\n",
    " 'Partly Cloudy']\n",
    "* ADDRTYPE: ['Intersection' 'Block' 'Alley']\n",
    "* COLLISIONTYPE: ['Angles' 'Sideswipe' 'Parked Car' 'Other' 'Cycles' 'Rear Ended' 'Head On'\n",
    " 'Left Turn' 'Pedestrian' 'Right Turn']\n",
    "* JUNCTIONTYPE: ['At Intersection (intersection related)'\n",
    " 'Mid-Block (not related to intersection)' 'Driveway Junction'\n",
    " 'Mid-Block (but intersection related)'\n",
    " 'At Intersection (but not related to intersection)' 'Ramp Junction'\n",
    " 'Unknown']\n",
    "* VEHCOUNT"
   ]
  },
  {
   "cell_type": "code",
   "execution_count": 704,
   "metadata": {},
   "outputs": [
    {
     "data": {
      "text/html": [
       "<div>\n",
       "<style scoped>\n",
       "    .dataframe tbody tr th:only-of-type {\n",
       "        vertical-align: middle;\n",
       "    }\n",
       "\n",
       "    .dataframe tbody tr th {\n",
       "        vertical-align: top;\n",
       "    }\n",
       "\n",
       "    .dataframe thead th {\n",
       "        text-align: right;\n",
       "    }\n",
       "</style>\n",
       "<table border=\"1\" class=\"dataframe\">\n",
       "  <thead>\n",
       "    <tr style=\"text-align: right;\">\n",
       "      <th></th>\n",
       "      <th>ROADCOND</th>\n",
       "      <th>LIGHTCOND</th>\n",
       "      <th>WEATHER</th>\n",
       "      <th>ADDRTYPE</th>\n",
       "      <th>COLLISIONTYPE</th>\n",
       "      <th>JUNCTIONTYPE</th>\n",
       "      <th>VEHCOUNT</th>\n",
       "    </tr>\n",
       "  </thead>\n",
       "  <tbody>\n",
       "    <tr>\n",
       "      <th>0</th>\n",
       "      <td>Wet</td>\n",
       "      <td>Dark - No Street Lights</td>\n",
       "      <td>Fog/Smog/Smoke</td>\n",
       "      <td>Intersection</td>\n",
       "      <td>Pedestrian</td>\n",
       "      <td>At Intersection (but not related to intersection)</td>\n",
       "      <td>2</td>\n",
       "    </tr>\n",
       "  </tbody>\n",
       "</table>\n",
       "</div>"
      ],
      "text/plain": [
       "  ROADCOND                LIGHTCOND         WEATHER      ADDRTYPE  \\\n",
       "0      Wet  Dark - No Street Lights  Fog/Smog/Smoke  Intersection   \n",
       "\n",
       "  COLLISIONTYPE                                       JUNCTIONTYPE  VEHCOUNT  \n",
       "0    Pedestrian  At Intersection (but not related to intersection)         2  "
      ]
     },
     "execution_count": 704,
     "metadata": {},
     "output_type": "execute_result"
    }
   ],
   "source": [
    "ex = pd.DataFrame([\n",
    "    dict(ROADCOND='Wet', \n",
    "         LIGHTCOND='Dark - No Street Lights', \n",
    "         WEATHER='Fog/Smog/Smoke',\n",
    "         ADDRTYPE='Intersection',\n",
    "         COLLISIONTYPE='Pedestrian',\n",
    "         JUNCTIONTYPE='At Intersection (but not related to intersection)',\n",
    "         VEHCOUNT=2\n",
    "        )\n",
    "])\n",
    "ex"
   ]
  },
  {
   "cell_type": "code",
   "execution_count": 714,
   "metadata": {},
   "outputs": [
    {
     "data": {
      "text/plain": [
       "array([0.73289995])"
      ]
     },
     "execution_count": 714,
     "metadata": {},
     "output_type": "execute_result"
    }
   ],
   "source": [
    "model = models['rf']\n",
    "model.predict_proba(column_trans.transform(ex))[:,1]"
   ]
  },
  {
   "cell_type": "code",
   "execution_count": null,
   "metadata": {},
   "outputs": [],
   "source": []
  },
  {
   "cell_type": "markdown",
   "metadata": {},
   "source": [
    "<div id='conclusion'/>\n",
    "\n",
    "## Conclusion"
   ]
  },
  {
   "cell_type": "code",
   "execution_count": null,
   "metadata": {},
   "outputs": [],
   "source": []
  },
  {
   "cell_type": "code",
   "execution_count": null,
   "metadata": {},
   "outputs": [],
   "source": []
  },
  {
   "cell_type": "code",
   "execution_count": null,
   "metadata": {},
   "outputs": [],
   "source": []
  }
 ],
 "metadata": {
  "kernelspec": {
   "display_name": "Python 3",
   "language": "python",
   "name": "python3"
  },
  "language_info": {
   "codemirror_mode": {
    "name": "ipython",
    "version": 3
   },
   "file_extension": ".py",
   "mimetype": "text/x-python",
   "name": "python",
   "nbconvert_exporter": "python",
   "pygments_lexer": "ipython3",
   "version": "3.8.2"
  },
  "latex_envs": {
   "LaTeX_envs_menu_present": false,
   "autoclose": false,
   "autocomplete": true,
   "bibliofile": "biblio.bib",
   "cite_by": "apalike",
   "current_citInitial": 1,
   "eqLabelWithNumbers": true,
   "eqNumInitial": 1,
   "hotkeys": {
    "equation": "Ctrl-E",
    "itemize": "Ctrl-I"
   },
   "labels_anchors": false,
   "latex_user_defs": false,
   "report_style_numbering": false,
   "user_envs_cfg": false
  }
 },
 "nbformat": 4,
 "nbformat_minor": 4
}
